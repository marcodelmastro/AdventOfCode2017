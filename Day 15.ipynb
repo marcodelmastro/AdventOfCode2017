{
 "cells": [
  {
   "cell_type": "markdown",
   "metadata": {},
   "source": [
    "## Day 15\n",
    "\n",
    "Generator A starts with 873\n",
    "\n",
    "Generator B starts with 583"
   ]
  },
  {
   "cell_type": "code",
   "execution_count": 48,
   "metadata": {},
   "outputs": [],
   "source": [
    "def generators(a = 65,b = 8921):\n",
    "    A = 16807\n",
    "    B = 48271\n",
    "    d = 2147483647\n",
    "    n = 40_000_000\n",
    "    c = 0\n",
    "    for _ in range(n):\n",
    "        a = (a*A)%d\n",
    "        b = (b*B)%d\n",
    "        if bin(a)[-16:] == bin(b)[-16:]:\n",
    "            c += 1\n",
    "    return c"
   ]
  },
  {
   "cell_type": "code",
   "execution_count": 51,
   "metadata": {},
   "outputs": [
    {
     "name": "stdout",
     "output_type": "stream",
     "text": [
      "Test 1: 588\n"
     ]
    }
   ],
   "source": [
    "print(\"Test 1:\",generators(65,8921))"
   ]
  },
  {
   "cell_type": "code",
   "execution_count": 50,
   "metadata": {},
   "outputs": [
    {
     "name": "stdout",
     "output_type": "stream",
     "text": [
      "Part 1: 631\n"
     ]
    }
   ],
   "source": [
    "print(\"Part 1:\",generators(873,583))"
   ]
  },
  {
   "cell_type": "code",
   "execution_count": 75,
   "metadata": {},
   "outputs": [],
   "source": [
    "def generator(a=65,A=16807,d=2147483647,c=4):\n",
    "    while True:\n",
    "        a = (a*A)%d\n",
    "        if a%c==0:\n",
    "            yield a\n",
    "\n",
    "def generators2(_a = 65,_b = 8921):\n",
    "    n = 5_000_000\n",
    "    i = 1\n",
    "    c = 0\n",
    "    for a,b in zip(generator(a=_a,A=16807,c=4),generator(a=_b,A=48271,c=8)):\n",
    "        if bin(a)[-16:] == bin(b)[-16:]:\n",
    "            c += 1\n",
    "        i+=1\n",
    "        if i>n:\n",
    "            break\n",
    "    return c"
   ]
  },
  {
   "cell_type": "code",
   "execution_count": 74,
   "metadata": {},
   "outputs": [
    {
     "name": "stdout",
     "output_type": "stream",
     "text": [
      "Test 2: 309\n"
     ]
    }
   ],
   "source": [
    "print(\"Test 2:\",generators2(65,8921))"
   ]
  },
  {
   "cell_type": "code",
   "execution_count": 73,
   "metadata": {},
   "outputs": [
    {
     "name": "stdout",
     "output_type": "stream",
     "text": [
      "Part 2: 279\n"
     ]
    }
   ],
   "source": [
    "print(\"Part 2:\",generators2(873,583))"
   ]
  },
  {
   "cell_type": "code",
   "execution_count": null,
   "metadata": {},
   "outputs": [],
   "source": []
  }
 ],
 "metadata": {
  "kernelspec": {
   "display_name": "Python 3",
   "language": "python",
   "name": "python3"
  },
  "language_info": {
   "codemirror_mode": {
    "name": "ipython",
    "version": 3
   },
   "file_extension": ".py",
   "mimetype": "text/x-python",
   "name": "python",
   "nbconvert_exporter": "python",
   "pygments_lexer": "ipython3",
   "version": "3.9.0"
  }
 },
 "nbformat": 4,
 "nbformat_minor": 4
}
