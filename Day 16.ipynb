{
 "cells": [
  {
   "cell_type": "markdown",
   "metadata": {},
   "source": [
    "## Day 16\n"
   ]
  },
  {
   "cell_type": "code",
   "execution_count": 58,
   "metadata": {},
   "outputs": [],
   "source": [
    "def dance(s,instr,verbose=False):\n",
    "    sv = [ c for c in s ]\n",
    "    for i in instr.split(\",\"):\n",
    "        if verbose: print(i,sv,\"-> \",end=\"\")\n",
    "        if i[0]==\"s\":\n",
    "            j = int(i[1:])\n",
    "            sv = sv[-j:]+sv[:-j]\n",
    "        elif i[0]==\"x\":\n",
    "            m,n = [ int(j) for j in i[1:].split('/') ] \n",
    "            cm = sv[m]\n",
    "            cn = sv[n]\n",
    "            sv[m] = cn\n",
    "            sv[n] = cm\n",
    "        elif i[0]==\"p\":\n",
    "            m,n = [ j for j in i[1:].split('/') ]\n",
    "            jm = sv.index(m)\n",
    "            jn = sv.index(n)\n",
    "            sv[jm] = n\n",
    "            sv[jn] = m\n",
    "        if verbose: print(sv)\n",
    "    return \"\".join(sv)"
   ]
  },
  {
   "cell_type": "code",
   "execution_count": 59,
   "metadata": {},
   "outputs": [
    {
     "name": "stdout",
     "output_type": "stream",
     "text": [
      "s1 ['a', 'b', 'c', 'd', 'e'] -> ['e', 'a', 'b', 'c', 'd']\n",
      "x3/4 ['e', 'a', 'b', 'c', 'd'] -> ['e', 'a', 'b', 'd', 'c']\n",
      "pe/b ['e', 'a', 'b', 'd', 'c'] -> ['b', 'a', 'e', 'd', 'c']\n"
     ]
    },
    {
     "data": {
      "text/plain": [
       "'baedc'"
      ]
     },
     "execution_count": 59,
     "metadata": {},
     "output_type": "execute_result"
    }
   ],
   "source": [
    "instr = \"s1,x3/4,pe/b\"\n",
    "s = \"abcde\"\n",
    "dance(s,instr,verbose=True)"
   ]
  },
  {
   "cell_type": "code",
   "execution_count": 62,
   "metadata": {},
   "outputs": [
    {
     "name": "stdout",
     "output_type": "stream",
     "text": [
      "abcdefghijklmnop -> fnloekigdmpajchb\n"
     ]
    }
   ],
   "source": [
    "with open(\"data/input16.txt\") as f:\n",
    "    instr = f.readlines()[0].strip(\"\\n\")\n",
    "    \n",
    "import string\n",
    "alphabet = string.ascii_lowercase\n",
    "p0 = alphabet[0:16]\n",
    "\n",
    "print(programs,\"->\",end=\" \")\n",
    "p1 = dance(p0,instr)\n",
    "print(p1)"
   ]
  },
  {
   "cell_type": "code",
   "execution_count": 97,
   "metadata": {},
   "outputs": [
    {
     "name": "stdout",
     "output_type": "stream",
     "text": [
      "Period found with T = 60\n",
      "p[0] = abcdefghijklmnop, p[60] = abcdefghijklmnop\n",
      "p[1000000000] = amkjepdhifolgncb\n"
     ]
    }
   ],
   "source": [
    "n = 1_000_000_000\n",
    "p = p0\n",
    "dances = [ p ]\n",
    "for i in range(n):\n",
    "    p = dance(p,instr)\n",
    "    if p in dances:\n",
    "        print(\"Period found with T =\",i+1)\n",
    "        dances.append(p)\n",
    "        break\n",
    "    else:\n",
    "        dances.append(p)\n",
    "\n",
    "print(\"p[{}] = {}, p[{}] = {}\".format(0,dances[0],i+1,dances[i+1]))\n",
    "\n",
    "p = p0\n",
    "for i in range(n%(i+1)):\n",
    "    p = dance(p,instr)\n",
    "print(\"p[{}] = {}\".format(n,p)) "
   ]
  },
  {
   "cell_type": "code",
   "execution_count": null,
   "metadata": {},
   "outputs": [],
   "source": []
  }
 ],
 "metadata": {
  "kernelspec": {
   "display_name": "Python 3",
   "language": "python",
   "name": "python3"
  },
  "language_info": {
   "codemirror_mode": {
    "name": "ipython",
    "version": 3
   },
   "file_extension": ".py",
   "mimetype": "text/x-python",
   "name": "python",
   "nbconvert_exporter": "python",
   "pygments_lexer": "ipython3",
   "version": "3.9.0"
  }
 },
 "nbformat": 4,
 "nbformat_minor": 4
}
