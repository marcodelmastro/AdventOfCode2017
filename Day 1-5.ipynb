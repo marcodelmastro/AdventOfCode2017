{
 "cells": [
  {
   "cell_type": "markdown",
   "metadata": {},
   "source": [
    "## Day 1\n",
    "\n",
    "https://adventofcode.com/2017/day/1"
   ]
  },
  {
   "cell_type": "code",
   "execution_count": 2,
   "metadata": {},
   "outputs": [
    {
     "name": "stdout",
     "output_type": "stream",
     "text": [
      "Part 1: 1223\n",
      "Part w: 1284\n"
     ]
    }
   ],
   "source": [
    "with open('data/input01.txt') as f:\n",
    "    l = f.readlines()[0].strip(\"\\n\")\n",
    "\n",
    "print(\"Part 1:\",sum([ int(a) for a,b in zip(l[0:],l[1:]+l[0]) if a==b]))\n",
    "print(\"Part 2:\",sum([ int(a) for a,b in zip(l[0:],l[len(l)//2:]+l[0:len(l)//2]) if a==b]))"
   ]
  },
  {
   "cell_type": "markdown",
   "metadata": {},
   "source": [
    "## Day 2\n",
    "\n",
    "https://adventofcode.com/2017/day/2"
   ]
  },
  {
   "cell_type": "code",
   "execution_count": 29,
   "metadata": {},
   "outputs": [
    {
     "name": "stdout",
     "output_type": "stream",
     "text": [
      "Part 1: 45972\n",
      "Part 2: 326\n"
     ]
    }
   ],
   "source": [
    "with open('data/input02.txt') as f:\n",
    "    spreadsheet = [ [ int(i) for i in l.strip(\"\\n\").split(\"\\t\") ] for l in f.readlines() ]\n",
    "\n",
    "checksum = 0\n",
    "for s in spreadsheet:\n",
    "    checksum += max(s)-min(s)\n",
    "print(\"Part 1:\",checksum)\n",
    "\n",
    "from itertools import permutations\n",
    "\n",
    "checksum = 0\n",
    "for s in spreadsheet:\n",
    "    for i,j in permutations(s,2):\n",
    "        if i!=j and i//j == i/j:\n",
    "            checksum += i//j\n",
    "print(\"Part 2:\",checksum)  "
   ]
  },
  {
   "cell_type": "markdown",
   "metadata": {},
   "source": [
    "## Day 3"
   ]
  },
  {
   "cell_type": "code",
   "execution_count": 61,
   "metadata": {},
   "outputs": [
    {
     "name": "stdout",
     "output_type": "stream",
     "text": [
      "Part 1: 326\n",
      "Part 2: 363010\n"
     ]
    }
   ],
   "source": [
    "def distance(target):\n",
    "    d = 1\n",
    "    v = 1\n",
    "    inc = 1\n",
    "    p = 0 \n",
    "    while True:\n",
    "        for side in (1,2):\n",
    "            for _ in range(inc):\n",
    "                v+=1 # increment value\n",
    "                p+=d # change position in spiral\n",
    "                if v==target:\n",
    "                    return int(abs(p.real)+abs(p.imag)) \n",
    "            d *= 1j # change directions using complex numbers\n",
    "        inc +=1\n",
    "        \n",
    "print(\"Part 1:\",distance(361527))\n",
    "\n",
    "from collections import defaultdict\n",
    "\n",
    "def neighbours(p):\n",
    "    return [ p-1+1j , p+1j , p+1+1j,\n",
    "             p-1    ,        p+1   , \n",
    "             p-1-1j , p-1j , p+1-1j ]\n",
    "\n",
    "def spiral(target):\n",
    "    d = 1\n",
    "    v = 1\n",
    "    inc = 1\n",
    "    p = 0 \n",
    "    value = defaultdict(lambda: 0) # store values according to (complex) position\n",
    "    value[p] = v\n",
    "    while True:\n",
    "        for side in (1,2):\n",
    "            for _ in range(inc):\n",
    "                p+=d # change position in spiral\n",
    "                v = 0\n",
    "                for n in neighbours(p): # sum values of neigbours, if present (0 otherwise)\n",
    "                    v += value[n] \n",
    "                if v>target:\n",
    "                    return v\n",
    "                value[p] = v\n",
    "            d *= 1j # change directions using complex numbers\n",
    "        inc +=1\n",
    "        \n",
    "print(\"Part 2:\",spiral(361527))"
   ]
  },
  {
   "cell_type": "markdown",
   "metadata": {},
   "source": [
    "## Day 4"
   ]
  },
  {
   "cell_type": "code",
   "execution_count": 86,
   "metadata": {},
   "outputs": [
    {
     "name": "stdout",
     "output_type": "stream",
     "text": [
      "Part 1: 477\n",
      "Part 2: 167\n"
     ]
    }
   ],
   "source": [
    "with open(\"data/input04.txt\") as f:\n",
    "    phrases = [ [ w for w in p.strip(\"\\n\").split(\" \") ] for p in f.readlines() ]\n",
    "\n",
    "from collections import Counter\n",
    "\n",
    "valid = 0\n",
    "for p in phrases:\n",
    "    count = Counter(p)\n",
    "    if count.most_common()[0][1] == 1:\n",
    "        valid += 1\n",
    "print(\"Part 1:\",valid)\n",
    "\n",
    "from itertools import permutations\n",
    "\n",
    "notvalid = 0\n",
    "for p in phrases:\n",
    "    for a,b in permutations(p,2):\n",
    "        if sorted(a)==sorted(b):\n",
    "            notvalid +=1\n",
    "            break\n",
    "print(\"Part 2:\",len(phrases)-notvalid)"
   ]
  },
  {
   "cell_type": "markdown",
   "metadata": {},
   "source": [
    "## Day 5"
   ]
  },
  {
   "cell_type": "code",
   "execution_count": 143,
   "metadata": {},
   "outputs": [
    {
     "name": "stdout",
     "output_type": "stream",
     "text": [
      "Test 1: 5\n",
      "Part 1: 359348\n",
      "Test 2: 10\n",
      "Part 2: 27688760\n"
     ]
    }
   ],
   "source": [
    "def steps(instr,part=1,verbose=False):\n",
    "    offset = 0\n",
    "    steps = 0\n",
    "    i = 0\n",
    "    while i<len(instr):\n",
    "        jump = instr[i]\n",
    "        if verbose: print(i,instr,jump)\n",
    "        if part==2 and jump >=3:\n",
    "            instr[i] -= 1\n",
    "        else:\n",
    "            instr[i] += 1\n",
    "        i += jump\n",
    "        steps +=1\n",
    "    return(steps)\n",
    "\n",
    "def steps2(instr,verbose=False):\n",
    "    offset = 0\n",
    "    steps = 0\n",
    "    i = 0\n",
    "    while i<len(instr):\n",
    "        jump = instr[i]\n",
    "        if verbose: print(i,instr,jump)\n",
    "        if jump >=3 :\n",
    "            instr[i] -= 1\n",
    "        else:\n",
    "            instr[i] += 1\n",
    "        i += jump\n",
    "        steps +=1\n",
    "    return(steps)\n",
    "\n",
    "instr_test = [0,3,0,1,-3 ]\n",
    "\n",
    "with open(\"data/input05.txt\") as f:\n",
    "    instr = [ int(i) for i in f.readlines() ]\n",
    "\n",
    "# don't forget to copy the instructions with list()!\n",
    "print(\"Test 1:\",steps(list(instr_test),))\n",
    "print(\"Part 1:\",steps(list(instr))) \n",
    "print(\"Test 2:\",steps(list(instr_test),part=2))\n",
    "print(\"Part 2:\",steps(list(instr),part=2))"
   ]
  },
  {
   "cell_type": "code",
   "execution_count": null,
   "metadata": {},
   "outputs": [],
   "source": []
  }
 ],
 "metadata": {
  "kernelspec": {
   "display_name": "Python 3",
   "language": "python",
   "name": "python3"
  },
  "language_info": {
   "codemirror_mode": {
    "name": "ipython",
    "version": 3
   },
   "file_extension": ".py",
   "mimetype": "text/x-python",
   "name": "python",
   "nbconvert_exporter": "python",
   "pygments_lexer": "ipython3",
   "version": "3.9.0"
  }
 },
 "nbformat": 4,
 "nbformat_minor": 4
}
