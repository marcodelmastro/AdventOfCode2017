{
 "cells": [
  {
   "cell_type": "markdown",
   "metadata": {},
   "source": [
    "## Day 21"
   ]
  },
  {
   "cell_type": "code",
   "execution_count": 34,
   "metadata": {},
   "outputs": [],
   "source": [
    "def getRules(lines):\n",
    "    rules = {}\n",
    "    for l in lines:\n",
    "        k = l.split(\" => \")\n",
    "        rules[k[0]] = k[1]\n",
    "    return rules"
   ]
  },
  {
   "cell_type": "code",
   "execution_count": 80,
   "metadata": {},
   "outputs": [],
   "source": [
    "import numpy as np\n",
    "\n",
    "def S2M(s):\n",
    "    '''string to matrix'''\n",
    "    k = s.split(\"/\")\n",
    "    m = np.zeros((len(k[0]),len(k)),dtype=int)\n",
    "    y = 0\n",
    "    for c in k:\n",
    "        x = 0\n",
    "        for r in c:\n",
    "            if r==\"#\":\n",
    "                m[y,x] = 1\n",
    "            x +=1\n",
    "        y+=1\n",
    "    return m\n",
    "\n",
    "def M2S(m):\n",
    "    '''matrix to string'''\n",
    "    s = \"\"\n",
    "    for y in range(len(m)):\n",
    "        for x in range(len(m[0])):\n",
    "            if m[y,x]==1:\n",
    "                s += \"#\"\n",
    "            else:\n",
    "                s += \".\"\n",
    "        s += \"/\"\n",
    "    return s[:-1]\n",
    "\n",
    "def splitM(m):\n",
    "    if len(m)%2==0:\n",
    "        split = []\n",
    "        for j in range(len(m)//2):\n",
    "            for i in range(len(m[0])//2):\n",
    "                split.append( m[2*j:2*j+2,2*i:2*i+2] )\n",
    "        return split\n",
    "    elif len(m)%3==0:\n",
    "        split = []\n",
    "        for j in range(len(m)//3):\n",
    "            for i in range(len(m[0])//3):\n",
    "                split.append( m[3*j:3*j+3,3*i:3*i+3] )\n",
    "        return split"
   ]
  },
  {
   "cell_type": "code",
   "execution_count": 131,
   "metadata": {},
   "outputs": [],
   "source": [
    "from math import sqrt \n",
    "\n",
    "def evolveTiles(rules,n):\n",
    "    s = \".#./..#/###\"\n",
    "    for e in range(n):\n",
    "        m = S2M(s)\n",
    "        splitm = splitM(m)\n",
    "        lnew = int(sqrt(len(splitm)))*(len(splitm[0])+1)\n",
    "        mnew = np.zeros((lnew,lnew),dtype=int)\n",
    "        j = 0\n",
    "        i = 0\n",
    "        for mp in splitm:\n",
    "\n",
    "            foundKey = False\n",
    "            for _ in range(4):\n",
    "                mp = np.rot90(mp)\n",
    "                if M2S(mp) in rules.keys():\n",
    "                    foundKey = True\n",
    "                    break\n",
    "            if not foundKey:\n",
    "                mp = np.fliplr(mp)\n",
    "                for _ in range(4):\n",
    "                    mp = np.rot90(mp)\n",
    "                    if M2S(mp) in rules.keys():\n",
    "                        foundKey = True\n",
    "                        break\n",
    "\n",
    "            tp = S2M(rules[M2S(mp)])\n",
    "\n",
    "            # stitch new tiles together\n",
    "            mnew[j:j+len(tp),i:i+len(tp[0])] = tp\n",
    "            i = (i+len(tp))%(len(mnew[0]))\n",
    "            if i==0:\n",
    "                j+=len(tp)\n",
    "        s = M2S(mnew)\n",
    "        print(\"Evolution {}: size = {}\".format(e+1,len(mnew)))\n",
    "    return s"
   ]
  },
  {
   "cell_type": "code",
   "execution_count": 132,
   "metadata": {},
   "outputs": [
    {
     "name": "stdout",
     "output_type": "stream",
     "text": [
      "Evolution 1: size = 4\n",
      "Evolution 2: size = 6\n",
      "[[1 1 0 1 1 0]\n",
      " [1 0 0 1 0 0]\n",
      " [0 0 0 0 0 0]\n",
      " [1 1 0 1 1 0]\n",
      " [1 0 0 1 0 0]\n",
      " [0 0 0 0 0 0]]\n",
      "12\n"
     ]
    }
   ],
   "source": [
    "lines = [\n",
    "    '../.# => ##./#../...',\n",
    "    '.#./..#/### => #..#/..../..../#..#'\n",
    "]\n",
    "\n",
    "rules =  getRules(lines)\n",
    "\n",
    "s = evolveTiles(rules,2)\n",
    "m = S2M(s)\n",
    "print(m)\n",
    "print(sum(sum(m)))"
   ]
  },
  {
   "cell_type": "code",
   "execution_count": 133,
   "metadata": {},
   "outputs": [
    {
     "name": "stdout",
     "output_type": "stream",
     "text": [
      "Evolution 1: size = 4\n",
      "Evolution 2: size = 6\n",
      "Evolution 3: size = 9\n",
      "Evolution 4: size = 12\n",
      "Evolution 5: size = 18\n",
      "[[1 0 1 1 1 1 1 0 1 1 0 1 1 0 1 1 1 1]\n",
      " [0 0 1 1 0 1 0 0 1 0 0 1 0 0 1 1 0 1]\n",
      " [1 0 1 0 0 1 0 0 0 1 0 1 1 0 1 0 0 1]\n",
      " [1 0 1 1 0 1 1 1 1 1 0 0 1 0 1 1 0 1]\n",
      " [0 0 1 0 0 1 1 0 1 0 0 0 0 0 1 0 0 1]\n",
      " [0 0 0 1 0 1 0 0 1 0 1 1 0 0 0 1 0 1]\n",
      " [1 0 1 1 1 1 1 0 1 1 0 1 1 0 1 1 1 1]\n",
      " [0 0 1 1 0 1 0 0 1 0 0 1 0 0 1 1 0 1]\n",
      " [1 0 1 0 0 1 0 0 0 1 0 1 1 0 1 0 0 1]\n",
      " [1 0 1 1 0 1 1 1 1 1 0 0 1 0 1 1 0 1]\n",
      " [0 0 1 0 0 1 1 0 1 0 0 0 0 0 1 0 0 1]\n",
      " [0 0 0 1 0 1 0 0 1 0 1 1 0 0 0 1 0 1]\n",
      " [1 0 1 1 1 1 1 0 1 1 0 1 1 0 1 1 0 1]\n",
      " [0 0 1 1 0 1 0 0 1 0 0 1 0 0 1 0 0 1]\n",
      " [1 0 1 0 0 1 0 0 0 1 0 1 1 0 1 0 0 0]\n",
      " [1 0 1 1 0 1 1 1 1 1 0 0 1 0 1 1 0 1]\n",
      " [0 0 1 0 0 1 1 0 1 0 0 0 0 0 1 0 0 1]\n",
      " [0 0 0 1 0 1 0 0 1 0 1 1 1 0 1 1 0 1]]\n",
      "164\n"
     ]
    }
   ],
   "source": [
    "with open(\"data/input21.txt\") as f:\n",
    "    lines = [l.strip(\"\\n\") for l in f.readlines()]\n",
    "\n",
    "rules = getRules(lines)\n",
    "s = evolveTiles(rules,5)\n",
    "m = S2M(s)\n",
    "print(m)\n",
    "print(sum(sum(m)))"
   ]
  },
  {
   "cell_type": "code",
   "execution_count": 134,
   "metadata": {},
   "outputs": [
    {
     "name": "stdout",
     "output_type": "stream",
     "text": [
      "Evolution 1: size = 4\n",
      "Evolution 2: size = 6\n",
      "Evolution 3: size = 9\n",
      "Evolution 4: size = 12\n",
      "Evolution 5: size = 18\n",
      "Evolution 6: size = 27\n",
      "Evolution 7: size = 36\n",
      "Evolution 8: size = 54\n",
      "Evolution 9: size = 81\n",
      "Evolution 10: size = 108\n",
      "Evolution 11: size = 162\n",
      "Evolution 12: size = 243\n",
      "Evolution 13: size = 324\n",
      "Evolution 14: size = 486\n",
      "Evolution 15: size = 729\n",
      "Evolution 16: size = 972\n",
      "Evolution 17: size = 1458\n",
      "Evolution 18: size = 2187\n",
      "2355110\n"
     ]
    }
   ],
   "source": [
    "s = evolveTiles(rules,18)\n",
    "m = S2M(s)\n",
    "print(sum(sum(m)))"
   ]
  },
  {
   "cell_type": "code",
   "execution_count": null,
   "metadata": {},
   "outputs": [],
   "source": []
  }
 ],
 "metadata": {
  "kernelspec": {
   "display_name": "Python 3",
   "language": "python",
   "name": "python3"
  },
  "language_info": {
   "codemirror_mode": {
    "name": "ipython",
    "version": 3
   },
   "file_extension": ".py",
   "mimetype": "text/x-python",
   "name": "python",
   "nbconvert_exporter": "python",
   "pygments_lexer": "ipython3",
   "version": "3.9.0"
  }
 },
 "nbformat": 4,
 "nbformat_minor": 4
}
