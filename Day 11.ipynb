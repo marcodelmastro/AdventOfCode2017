{
 "cells": [
  {
   "cell_type": "markdown",
   "metadata": {},
   "source": [
    "## Day 11\n",
    "\n",
    "Hexe grid represented by 2D square grid corresponding to column shifting, with additional diagonal moves."
   ]
  },
  {
   "cell_type": "code",
   "execution_count": 90,
   "metadata": {},
   "outputs": [],
   "source": [
    "move = {}\n",
    "move['n']  = (-1, 0)\n",
    "move['s']  = (+1, 0)\n",
    "move['nw'] = ( 0,-1)\n",
    "move['se'] = ( 0,+1)\n",
    "move['ne'] = (-1,+1)\n",
    "move['sw'] = (+1,-1)\n",
    "\n",
    "def step(s,m):\n",
    "    return tuple(a + b for a,b in zip(s,move[m]))\n",
    "\n",
    "def hexDist(a,b):\n",
    "    xa,ya = a\n",
    "    xb,yb = b\n",
    "    dy = yb-ya\n",
    "    dx = xb-xa\n",
    "    return max(abs(dy),abs(dx))"
   ]
  },
  {
   "cell_type": "code",
   "execution_count": 92,
   "metadata": {},
   "outputs": [
    {
     "name": "stdout",
     "output_type": "stream",
     "text": [
      "Part 1: 682\n",
      "Part 2: 1406\n"
     ]
    }
   ],
   "source": [
    "with open(\"data/input11.txt\") as f:\n",
    "    path = [ l.strip(\"\\n\") for l in f.read().split(\",\") ]\n",
    "\n",
    "dp = []\n",
    "p = (0,0)\n",
    "for m in path:\n",
    "    p = step(p,m)\n",
    "    dp.append(hexDist((0,0),p))\n",
    "\n",
    "print(\"Part 1:\",hexDist((0,0),p)) \n",
    "print(\"Part 2:\",max(dp))"
   ]
  },
  {
   "cell_type": "code",
   "execution_count": null,
   "metadata": {},
   "outputs": [],
   "source": []
  }
 ],
 "metadata": {
  "kernelspec": {
   "display_name": "Python 3",
   "language": "python",
   "name": "python3"
  },
  "language_info": {
   "codemirror_mode": {
    "name": "ipython",
    "version": 3
   },
   "file_extension": ".py",
   "mimetype": "text/x-python",
   "name": "python",
   "nbconvert_exporter": "python",
   "pygments_lexer": "ipython3",
   "version": "3.9.0"
  }
 },
 "nbformat": 4,
 "nbformat_minor": 4
}
