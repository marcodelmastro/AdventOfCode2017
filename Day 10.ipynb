{
 "cells": [
  {
   "cell_type": "markdown",
   "metadata": {},
   "source": [
    "## Day 10"
   ]
  },
  {
   "cell_type": "code",
   "execution_count": 169,
   "metadata": {},
   "outputs": [],
   "source": [
    "def hashListLenghts(lst,lns,ip=0,skip=0,verbose=False):\n",
    "\n",
    "    il = 0\n",
    "    while il<len(lns):\n",
    "\n",
    "        # unroll the list so that current position is at first place\n",
    "        lst = lst[ip:]+lst[:ip]\n",
    "\n",
    "        # makes inversion according to lenght\n",
    "        lst = lst[:lns[il]][::-1]+lst[lns[il]:]\n",
    "\n",
    "        # re-roll list back in proper order\n",
    "        lst = lst[-ip:]+lst[:-ip]\n",
    "\n",
    "        ip = (ip+lns[il]+skip)%len(lst)\n",
    "        il = il+1\n",
    "        skip+=1\n",
    "\n",
    "    return lst,ip,skip\n",
    "\n",
    "def processList(lst,lns_asc):\n",
    "    ip=0\n",
    "    skip=0\n",
    "    for _ in range(64):\n",
    "        lst,ip,skip = hashListLenghts(lst,lns_asc,ip,skip)\n",
    "    return lst\n",
    "\n",
    "def densehash(lst):\n",
    "    dh = []\n",
    "    for i in range(16):\n",
    "        h = 0\n",
    "        for i in lst[i*16:i*16+16]:\n",
    "            h = h ^ i\n",
    "        dh.append(h)\n",
    "    return dh\n",
    "\n",
    "def knotHash(l):\n",
    "    add = [17, 31, 73, 47, 23]\n",
    "    l += add\n",
    "    lst = [ i for i in range(256) ]\n",
    "    lst = processList(lst,l)\n",
    "    o = \"\"\n",
    "    for d in densehash(lst):\n",
    "        h = hex(d)[2:]\n",
    "        if len(h)==1:\n",
    "            o += \"0\"+h\n",
    "        else:\n",
    "            o += h\n",
    "    return o"
   ]
  },
  {
   "cell_type": "code",
   "execution_count": 170,
   "metadata": {},
   "outputs": [
    {
     "name": "stdout",
     "output_type": "stream",
     "text": [
      "Part 1: 54675\n",
      "Part 2: a7af2706aa9a09cf5d848c1e6605dd2a\n"
     ]
    }
   ],
   "source": [
    "with open(\"data/input10.txt\") as f:\n",
    "    lns = [ int(i) for i in f.read().split(\",\") ]\n",
    "\n",
    "lst = [ i for i in range(256) ]\n",
    "lst,ip,skip = hashListLenghts(lst,lns)\n",
    "print(\"Part 1:\",lst[0]*lst[1])\n",
    "\n",
    "with open(\"data/input10.txt\") as f:\n",
    "    l = [ ord(c) for c in f.read().strip(\"\\n\") ]\n",
    "\n",
    "print(\"Part 2:\",knotHash(l))"
   ]
  },
  {
   "cell_type": "code",
   "execution_count": null,
   "metadata": {},
   "outputs": [],
   "source": []
  }
 ],
 "metadata": {
  "kernelspec": {
   "display_name": "Python 3",
   "language": "python",
   "name": "python3"
  },
  "language_info": {
   "codemirror_mode": {
    "name": "ipython",
    "version": 3
   },
   "file_extension": ".py",
   "mimetype": "text/x-python",
   "name": "python",
   "nbconvert_exporter": "python",
   "pygments_lexer": "ipython3",
   "version": "3.9.0"
  }
 },
 "nbformat": 4,
 "nbformat_minor": 4
}
