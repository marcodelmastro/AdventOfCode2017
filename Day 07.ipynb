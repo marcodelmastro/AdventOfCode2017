{
 "cells": [
  {
   "cell_type": "markdown",
   "metadata": {},
   "source": [
    "## Day 7"
   ]
  },
  {
   "cell_type": "code",
   "execution_count": null,
   "metadata": {},
   "outputs": [],
   "source": [
    "def readInput7(filename):\n",
    "    weight = {}\n",
    "    node = {}\n",
    "    with open(filename) as f:\n",
    "        for l in f.readlines():\n",
    "            a = l.strip(\"\\n\").split(\" -> \")\n",
    "            weight[a[0].split(\" \")[0]] = int(a[0].split(\" \")[1].replace(\"(\",\"\").replace(\")\",\"\"))\n",
    "            if len(a)==2:\n",
    "                node[a[0].split(\" \")[0]] = a[1].split(\", \")\n",
    "    return weight,node\n",
    "\n",
    "def findBottom(node,weight):\n",
    "    s = list(weight.keys())[0]    \n",
    "    while True:\n",
    "        i = 0\n",
    "        for n in node.keys():\n",
    "            if s in node[n]:\n",
    "                s = n\n",
    "                break\n",
    "            i += 1\n",
    "        if i==len(node):\n",
    "            return s\n",
    "\n",
    "weight,node = readInput7(\"data/day07example.txt\")\n",
    "print(\"Test 1:\",findBottom(node,weight))\n",
    "\n",
    "weight,node = readInput7(\"data/input07.txt\")\n",
    "print(\"Part 1:\",findBottom(node,weight))\n",
    "\n",
    "def towerWeight(n,node,weight):\n",
    "    if n in node.keys():\n",
    "        return weight[n] + sum( [ towerWeight(m,node,weight) for m in node[n] ] )\n",
    "    else:\n",
    "        return weight[n]\n",
    "\n",
    "from collections import Counter\n",
    "\n",
    "def findDelta(node,weight):\n",
    "    # find faulty weight\n",
    "    b = findBottom(node,weight)\n",
    "    while True:\n",
    "        counter = Counter([towerWeight(w,node,weight) for w in node[b]])\n",
    "        if len(counter)==1: # change is in node\n",
    "            break\n",
    "        else: # change is in leaves        \n",
    "            for n in node[b]:\n",
    "                if towerWeight(n,node,weight) == counter.most_common()[1][0]:\n",
    "                    b = n\n",
    "                    break\n",
    "            if b in node.keys():\n",
    "                pass\n",
    "            else:\n",
    "                break\n",
    "    # fix faulty weight\n",
    "    for n in node.keys():\n",
    "        if b in node[n]:\n",
    "            counter = Counter([towerWeight(w,node,weight) for w in node[n]])\n",
    "            break\n",
    "    return b,counter.most_common()[0][0]-counter.most_common()[1][0]\n",
    "\n",
    "weight,node = readInput7(\"data/day07example.txt\")\n",
    "b,delta = findDelta(node,weight)\n",
    "print(\"Test 2:\",b,\"\\t delta =\", delta,\", weight =\",weight[b],\"->\",weight[b]+delta)\n",
    "\n",
    "weight,node = readInput7(\"data/input07.txt\")\n",
    "b,delta = findDelta(node,weight)\n",
    "print(\"Part 2:\",b,\"\\t delta =\", delta,\", weight =\",weight[b],\"->\",weight[b]+delta)"
   ]
  },
  {
   "cell_type": "code",
   "execution_count": null,
   "metadata": {},
   "outputs": [],
   "source": []
  }
 ],
 "metadata": {
  "kernelspec": {
   "display_name": "Python 3",
   "language": "python",
   "name": "python3"
  },
  "language_info": {
   "codemirror_mode": {
    "name": "ipython",
    "version": 3
   },
   "file_extension": ".py",
   "mimetype": "text/x-python",
   "name": "python",
   "nbconvert_exporter": "python",
   "pygments_lexer": "ipython3",
   "version": "3.9.0"
  }
 },
 "nbformat": 4,
 "nbformat_minor": 4
}
