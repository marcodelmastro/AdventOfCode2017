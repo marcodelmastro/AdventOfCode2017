{
 "cells": [
  {
   "cell_type": "markdown",
   "metadata": {},
   "source": [
    "## Day 18\n",
    "\n",
    "### Part 1"
   ]
  },
  {
   "cell_type": "code",
   "execution_count": 204,
   "metadata": {},
   "outputs": [],
   "source": [
    "from collections import defaultdict\n",
    "\n",
    "def regOrValue(c,reg):\n",
    "    try:\n",
    "        v = int(c)\n",
    "    except:\n",
    "        v = reg[c]\n",
    "    return v\n",
    "\n",
    "def duet(prog,verbose=False): \n",
    "    reg = defaultdict(lambda: 0)\n",
    "    i = 0\n",
    "    sound = 0\n",
    "    while True:\n",
    "        if i>=len(prog):\n",
    "            break\n",
    "        cmd = prog[i].split(\" \")\n",
    "        if verbose:\n",
    "            print(cmd)\n",
    "        if cmd[0]==\"snd\":\n",
    "            sound = reg[cmd[1]]\n",
    "        elif cmd[0]==\"set\":\n",
    "            reg[cmd[1]]  = regOrValue(cmd[2],reg)\n",
    "        elif cmd[0]==\"add\":\n",
    "            reg[cmd[1]] += regOrValue(cmd[2],reg)\n",
    "        elif cmd[0]==\"mul\":\n",
    "            reg[cmd[1]] *= regOrValue(cmd[2],reg)\n",
    "        elif cmd[0]==\"mod\":\n",
    "            reg[cmd[1]] %= regOrValue(cmd[2],reg)\n",
    "        elif cmd[0]==\"rcv\":\n",
    "            if reg[cmd[1]]:\n",
    "                if verbose:\n",
    "                    print(\"Recovering\",sound)\n",
    "                if sound > 0:\n",
    "                    return sound\n",
    "        elif cmd[0]==\"jgz\":\n",
    "            if regOrValue(reg[cmd[1]],reg)>0:\n",
    "                i += regOrValue(cmd[2],reg) - 1 # will increment by 1 as for all other actions\n",
    "        i += 1\n",
    "    return reg"
   ]
  },
  {
   "cell_type": "code",
   "execution_count": 205,
   "metadata": {},
   "outputs": [],
   "source": [
    "prog = [\n",
    "\"set a 1\",\n",
    "\"add a 2\",\n",
    "\"mul a a\",\n",
    "\"mod a 5\",\n",
    "\"snd a\",\n",
    "\"set a 0\",\n",
    "\"rcv a\",\n",
    "\"jgz a -1\",\n",
    "\"set a 1\",\n",
    "\"jgz a -2\"\n",
    "]"
   ]
  },
  {
   "cell_type": "code",
   "execution_count": 206,
   "metadata": {},
   "outputs": [
    {
     "name": "stdout",
     "output_type": "stream",
     "text": [
      "['set', 'a', '1']\n",
      "['add', 'a', '2']\n",
      "['mul', 'a', 'a']\n",
      "['mod', 'a', '5']\n",
      "['snd', 'a']\n",
      "['set', 'a', '0']\n",
      "['rcv', 'a']\n",
      "['jgz', 'a', '-1']\n",
      "['set', 'a', '1']\n",
      "['jgz', 'a', '-2']\n",
      "['jgz', 'a', '-1']\n",
      "['rcv', 'a']\n",
      "Recovering 4\n"
     ]
    },
    {
     "data": {
      "text/plain": [
       "4"
      ]
     },
     "execution_count": 206,
     "metadata": {},
     "output_type": "execute_result"
    }
   ],
   "source": [
    "duet(prog,verbose=True) "
   ]
  },
  {
   "cell_type": "code",
   "execution_count": 200,
   "metadata": {},
   "outputs": [
    {
     "name": "stdout",
     "output_type": "stream",
     "text": [
      "Part 1: 8600\n"
     ]
    }
   ],
   "source": [
    "with open(\"data/input18.txt\") as f:\n",
    "    prog = [ l.strip(\"\\n\") for l in f.readlines() ]\n",
    "    \n",
    "print(\"Part 1:\",duet(prog)) "
   ]
  },
  {
   "cell_type": "markdown",
   "metadata": {},
   "source": [
    "### Part 2"
   ]
  },
  {
   "cell_type": "code",
   "execution_count": 207,
   "metadata": {},
   "outputs": [],
   "source": [
    "from collections import defaultdict\n",
    "\n",
    "def regOrValue(c,reg):\n",
    "    try:\n",
    "        v = int(c)\n",
    "    except:\n",
    "        v = reg[c]\n",
    "    return v\n",
    "\n",
    "class Program:\n",
    "    \n",
    "    def __init__(self,ID,prog):\n",
    "    \n",
    "        self.ID   = ID\n",
    "        self.prog = list(prog)\n",
    "        self.reg  = defaultdict(int)\n",
    "        self.reg['p'] = ID\n",
    "        self.i = 0\n",
    "        self.sounds = 0\n",
    "        self.received = []\n",
    "        self.isWaiting = False\n",
    "        self.reachedEnd = False\n",
    "\n",
    "    def queueSound(self,s):\n",
    "        self.received.append(s)\n",
    "        self.isWaiting = False\n",
    "        \n",
    "    def Run(self,insound=0): \n",
    "        \n",
    "        self.isWaiting = False\n",
    "        \n",
    "        while True:\n",
    "            \n",
    "            if self.i>=len(prog):\n",
    "                print(\"Reached end of program\",self.ID)\n",
    "                self.reachedEnd = True\n",
    "            \n",
    "            cmd = self.prog[self.i].split(\" \")\n",
    "            \n",
    "            if cmd[0]==\"snd\":\n",
    "                self.i += 1 # increment here since returning before global increment\n",
    "                self.sounds += 1\n",
    "                return regOrValue(cmd[1],self.reg)\n",
    "            elif cmd[0]==\"set\":\n",
    "                self.reg[cmd[1]]  = regOrValue(cmd[2],self.reg)\n",
    "            elif cmd[0]==\"add\":\n",
    "                self.reg[cmd[1]] += regOrValue(cmd[2],self.reg)\n",
    "            elif cmd[0]==\"mul\":\n",
    "                self.reg[cmd[1]] *= regOrValue(cmd[2],self.reg)\n",
    "            elif cmd[0]==\"mod\":\n",
    "                self.reg[cmd[1]] %= regOrValue(cmd[2],self.reg)\n",
    "            elif cmd[0]==\"rcv\":\n",
    "                if len(self.received)>0:\n",
    "                    self.reg[cmd[1]] = self.received.pop(0)\n",
    "                else:\n",
    "                    # no local increment of i, since I want this instruction to be re-executed is input gets available\n",
    "                    self.isWaiting = True\n",
    "                    return None\n",
    "            elif cmd[0]==\"jgz\":\n",
    "                if regOrValue(cmd[1],self.reg)>0:\n",
    "                    self.i += regOrValue(cmd[2],self.reg) - 1\n",
    "            \n",
    "            self.i += 1\n",
    "\n",
    "\n",
    "def Duet(prog):\n",
    "    \n",
    "    p1 = Program(0,prog)\n",
    "    p2 = Program(1,prog)\n",
    "    \n",
    "    while True:\n",
    "    \n",
    "        # Run P1 until it cannot run anymore because is waiting to receive sounds\n",
    "        while not p1.isWaiting:\n",
    "            o1 = p1.Run()\n",
    "            if o1 != None:\n",
    "                p2.queueSound(o1) # store the emitted sounds in P2 queue\n",
    "        \n",
    "        # Run P2 until it cannot run anymore because is waiting to receive sounds\n",
    "        while not p2.isWaiting:\n",
    "            o2 = p2.Run()\n",
    "            if o2 != None:\n",
    "                p1.queueSound(o2) # store the emitted sounds in P1 queue\n",
    "    \n",
    "        # Both programs are stuck, end the execution\n",
    "        if p1.isWaiting and p2.isWaiting:\n",
    "            break\n",
    "\n",
    "        # At least one program has reached the end of the instructions, end the execution\n",
    "        if p1.reachedEnd or p2.reachedEnd:\n",
    "            break\n",
    "            \n",
    "    return p1,p2"
   ]
  },
  {
   "cell_type": "code",
   "execution_count": 208,
   "metadata": {},
   "outputs": [
    {
     "name": "stdout",
     "output_type": "stream",
     "text": [
      "3\n"
     ]
    }
   ],
   "source": [
    "prog = [\n",
    "\"snd 1\",\n",
    "\"snd 2\",\n",
    "\"snd p\",\n",
    "\"rcv a\",\n",
    "\"rcv b\",\n",
    "\"rcv c\",\n",
    "\"rcv d\"\n",
    "]\n",
    "\n",
    "p1,p2 = Duet(prog)\n",
    "print(p2.sounds)"
   ]
  },
  {
   "cell_type": "code",
   "execution_count": 209,
   "metadata": {},
   "outputs": [
    {
     "name": "stdout",
     "output_type": "stream",
     "text": [
      "Part 2: 7239\n"
     ]
    }
   ],
   "source": [
    "with open(\"data/input18.txt\") as f:\n",
    "    prog = [ l.strip(\"\\n\") for l in f.readlines() ]\n",
    "\n",
    "p1,p2 = Duet(prog)\n",
    "print(\"Part 2:\",p2.sounds)"
   ]
  },
  {
   "cell_type": "code",
   "execution_count": null,
   "metadata": {},
   "outputs": [],
   "source": []
  }
 ],
 "metadata": {
  "kernelspec": {
   "display_name": "Python 3",
   "language": "python",
   "name": "python3"
  },
  "language_info": {
   "codemirror_mode": {
    "name": "ipython",
    "version": 3
   },
   "file_extension": ".py",
   "mimetype": "text/x-python",
   "name": "python",
   "nbconvert_exporter": "python",
   "pygments_lexer": "ipython3",
   "version": "3.9.0"
  }
 },
 "nbformat": 4,
 "nbformat_minor": 4
}
