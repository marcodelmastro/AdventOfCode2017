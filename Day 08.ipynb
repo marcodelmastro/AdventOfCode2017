{
 "cells": [
  {
   "cell_type": "markdown",
   "metadata": {},
   "source": [
    "## Day 8"
   ]
  },
  {
   "cell_type": "code",
   "execution_count": 19,
   "metadata": {},
   "outputs": [],
   "source": [
    "from collections import defaultdict\n",
    "\n",
    "def cond(cnd,reg):\n",
    "    cnd = cnd.split(\" \")\n",
    "    if   cnd[1]==\">\" : return reg[cnd[0]] >  int(cnd[2])\n",
    "    elif cnd[1]==\"<\" : return reg[cnd[0]] <  int(cnd[2])\n",
    "    elif cnd[1]==\">=\": return reg[cnd[0]] >= int(cnd[2])\n",
    "    elif cnd[1]==\"<=\": return reg[cnd[0]] <= int(cnd[2])\n",
    "    elif cnd[1]==\"==\": return reg[cnd[0]] == int(cnd[2])\n",
    "    elif cnd[1]==\"!=\": return reg[cnd[0]] != int(cnd[2])\n",
    "    print(\"ERROR. Cannot decode condition.\")\n",
    "    return False\n",
    "\n",
    "def registers(prog):\n",
    "    reg = defaultdict(lambda: 0)\n",
    "    regmax = 0\n",
    "    i = 0\n",
    "    while i<len(prog):\n",
    "        cmd,cnd = prog[i].split(\" if \")\n",
    "        if cond(cnd,reg):\n",
    "            cmd = cmd.split(\" \")\n",
    "            if   cmd[1] == \"inc\": reg[cmd[0]] += int(cmd[2])\n",
    "            elif cmd[1] == \"dec\": reg[cmd[0]] -= int(cmd[2])\n",
    "        if max(reg.values()) > regmax:\n",
    "            regmax = max(reg.values())\n",
    "        i +=1\n",
    "    return reg,regmax"
   ]
  },
  {
   "cell_type": "code",
   "execution_count": 23,
   "metadata": {},
   "outputs": [
    {
     "name": "stdout",
     "output_type": "stream",
     "text": [
      "Test 1: 1\n",
      "Test 2: 10\n"
     ]
    }
   ],
   "source": [
    "prog = [\n",
    "    \"b inc 5 if a > 1\",\n",
    "    \"a inc 1 if b < 5\",\n",
    "    \"c dec -10 if a >= 1\",\n",
    "    \"c inc -20 if c == 10\"\n",
    "]\n",
    "\n",
    "reg,regmax = registers(prog)\n",
    "\n",
    "print(\"Test 1:\",max(reg.values()))\n",
    "print(\"Test 2:\",regmax)"
   ]
  },
  {
   "cell_type": "code",
   "execution_count": 25,
   "metadata": {},
   "outputs": [
    {
     "name": "stdout",
     "output_type": "stream",
     "text": [
      "Part 1: 4647\n",
      "Part 2: 5590\n"
     ]
    }
   ],
   "source": [
    "with open(\"data/input08.txt\") as f:\n",
    "    prog = [l.strip(\"\\n\") for l in f.readlines()]\n",
    "    \n",
    "reg,regmax = registers(prog)\n",
    "\n",
    "print(\"Part 1:\",max(reg.values()))\n",
    "print(\"Part 2:\",regmax)"
   ]
  },
  {
   "cell_type": "code",
   "execution_count": null,
   "metadata": {},
   "outputs": [],
   "source": []
  }
 ],
 "metadata": {
  "kernelspec": {
   "display_name": "Python 3",
   "language": "python",
   "name": "python3"
  },
  "language_info": {
   "codemirror_mode": {
    "name": "ipython",
    "version": 3
   },
   "file_extension": ".py",
   "mimetype": "text/x-python",
   "name": "python",
   "nbconvert_exporter": "python",
   "pygments_lexer": "ipython3",
   "version": "3.9.0"
  }
 },
 "nbformat": 4,
 "nbformat_minor": 4
}
