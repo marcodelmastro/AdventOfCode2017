{
 "cells": [
  {
   "cell_type": "markdown",
   "metadata": {},
   "source": [
    "## Day 22\n",
    "\n",
    "### Part 1"
   ]
  },
  {
   "cell_type": "code",
   "execution_count": 144,
   "metadata": {},
   "outputs": [],
   "source": [
    "from collections import defaultdict\n",
    "\n",
    "CLEAN = 0\n",
    "INFEC = 2 # use 2 instead of 1 to reuse for Part 2. It's anyway irrelevant for Part 1\n",
    "\n",
    "def initializeGrid(inimap):\n",
    "    grid = defaultdict(int)\n",
    "    y = 0\n",
    "    for r in inimap:\n",
    "        x = 0\n",
    "        for c in r:\n",
    "            if inimap[y][x]==\"#\":\n",
    "                X = x+y*1j \n",
    "                grid[X] = INFEC\n",
    "            x += 1\n",
    "        y += 1\n",
    "    return grid"
   ]
  },
  {
   "cell_type": "code",
   "execution_count": 145,
   "metadata": {},
   "outputs": [],
   "source": [
    "def propagateVirus(inimap,n):\n",
    "    \n",
    "    # initial grid status\n",
    "    grid = initializeGrid(inimap)\n",
    "\n",
    "    # get starting point\n",
    "    p = len(inimap)//2 + len(inimap[0])//2 * 1j\n",
    "    L = -1j\n",
    "    R = +1j\n",
    "    d = -1j # upward goes toward negative imaginary, to respect array indexing\n",
    "\n",
    "    i = 0\n",
    "    for _ in range(n):\n",
    "        if grid[p]==INFEC: # infected\n",
    "            d *= R\n",
    "            grid[p] = CLEAN\n",
    "        else: # not infected\n",
    "            d *= L\n",
    "            grid[p] = INFEC\n",
    "            i += 1\n",
    "        p += d\n",
    "    return i,grid"
   ]
  },
  {
   "cell_type": "code",
   "execution_count": 146,
   "metadata": {},
   "outputs": [
    {
     "name": "stdout",
     "output_type": "stream",
     "text": [
      "5587\n"
     ]
    }
   ],
   "source": [
    "inimap_test = [\n",
    "    '..#',\n",
    "    '#..',\n",
    "    '...'\n",
    "]\n",
    "\n",
    "i,grid = propagateVirus(inimap_test,10000)\n",
    "print(i)"
   ]
  },
  {
   "cell_type": "code",
   "execution_count": 147,
   "metadata": {},
   "outputs": [
    {
     "name": "stdout",
     "output_type": "stream",
     "text": [
      "5433\n"
     ]
    }
   ],
   "source": [
    "with open(\"data/input22.txt\") as f:\n",
    "    inimap = [l.strip(\"\\n\") for l in f.readlines()]\n",
    "\n",
    "i,grid = propagateVirus(inimap,10000)\n",
    "print(i)"
   ]
  },
  {
   "cell_type": "markdown",
   "metadata": {},
   "source": [
    "### Part 2"
   ]
  },
  {
   "cell_type": "code",
   "execution_count": 149,
   "metadata": {},
   "outputs": [],
   "source": [
    "CLEAN = 0\n",
    "WEAKE = 1\n",
    "INFEC = 2\n",
    "FLAGG = 3\n",
    "\n",
    "def propagateVirus2(inimap,n):\n",
    "    \n",
    "    # initial grid status\n",
    "    grid = initializeGrid(inimap)\n",
    "\n",
    "    # get starting point\n",
    "    p = len(inimap)//2 + len(inimap[0])//2 * 1j\n",
    "    L = -1j\n",
    "    R = +1j\n",
    "    d = -1j # upward goes toward negative imaginary, to respect array indexing\n",
    "\n",
    "    i = 0\n",
    "    for _ in range(n):\n",
    "        \n",
    "        if   grid[p]==CLEAN: \n",
    "            grid[p] = WEAKE\n",
    "            d *= L\n",
    "            \n",
    "        elif grid[p]==WEAKE:\n",
    "            grid[p] = INFEC\n",
    "            i += 1\n",
    "\n",
    "        elif grid[p]==INFEC:\n",
    "            grid[p] = FLAGG\n",
    "            d *= R    \n",
    "        \n",
    "        elif grid[p] == FLAGG:\n",
    "            grid[p] = CLEAN\n",
    "            d *= -1\n",
    "        \n",
    "        p += d\n",
    "        \n",
    "    return i,grid\n"
   ]
  },
  {
   "cell_type": "code",
   "execution_count": 150,
   "metadata": {},
   "outputs": [
    {
     "name": "stdout",
     "output_type": "stream",
     "text": [
      "2511944\n"
     ]
    }
   ],
   "source": [
    "inimap_test = [\n",
    "    '..#',\n",
    "    '#..',\n",
    "    '...'\n",
    "]\n",
    "\n",
    "i,grid = propagateVirus2(inimap_test,10000000)\n",
    "print(i)"
   ]
  },
  {
   "cell_type": "code",
   "execution_count": 151,
   "metadata": {},
   "outputs": [
    {
     "name": "stdout",
     "output_type": "stream",
     "text": [
      "2512599\n"
     ]
    }
   ],
   "source": [
    "with open(\"data/input22.txt\") as f:\n",
    "    inimap = [l.strip(\"\\n\") for l in f.readlines()]\n",
    "\n",
    "i,grid = propagateVirus2(inimap,10000000)\n",
    "print(i)"
   ]
  },
  {
   "cell_type": "code",
   "execution_count": null,
   "metadata": {},
   "outputs": [],
   "source": []
  }
 ],
 "metadata": {
  "kernelspec": {
   "display_name": "Python 3",
   "language": "python",
   "name": "python3"
  },
  "language_info": {
   "codemirror_mode": {
    "name": "ipython",
    "version": 3
   },
   "file_extension": ".py",
   "mimetype": "text/x-python",
   "name": "python",
   "nbconvert_exporter": "python",
   "pygments_lexer": "ipython3",
   "version": "3.9.0"
  }
 },
 "nbformat": 4,
 "nbformat_minor": 4
}
