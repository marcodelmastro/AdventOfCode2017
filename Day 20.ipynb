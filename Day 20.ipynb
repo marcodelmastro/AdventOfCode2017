{
 "cells": [
  {
   "cell_type": "markdown",
   "metadata": {},
   "source": [
    "## Day 20"
   ]
  },
  {
   "cell_type": "code",
   "execution_count": 112,
   "metadata": {},
   "outputs": [],
   "source": [
    "def getParticles(lines):\n",
    "    part = []\n",
    "    for l in lines:\n",
    "        k = []\n",
    "        for p in l.replace(\"p=<\",\"\").replace(\"v=<\",\"\").replace(\"a=<\",\"\").replace(\">\",\"\").split(\", \"):\n",
    "            r = []\n",
    "            for i in p.split(\",\"):\n",
    "                r.append(int(i))\n",
    "            k.append(r)\n",
    "        part.append(k)\n",
    "    return part"
   ]
  },
  {
   "cell_type": "code",
   "execution_count": 115,
   "metadata": {},
   "outputs": [],
   "source": [
    "from copy import deepcopy\n",
    "\n",
    "def minDistance(_part,n=1000):\n",
    "    part = deepcopy(_part) # make a copy to avoid spoiling part 2 or further test!\n",
    "    i0seq = []\n",
    "    while True:\n",
    "        d0 = []\n",
    "        for p in part:\n",
    "            p[1] = [ x+y for x,y in zip(p[1],p[2]) ]\n",
    "            p[0] = [ x+y for x,y in zip(p[0],p[1]) ]\n",
    "            d = sum([abs(x) for x in p[0]])\n",
    "            d0.append(d)\n",
    "        d0min = min(d0)\n",
    "        i0 = d0.index(d0min)\n",
    "        i0seq.append(i0)\n",
    "        if len(i0seq)>=n and sum(i0seq[-n:])==n*i0seq[-1]:\n",
    "            return i0seq[-1]\n",
    "            break"
   ]
  },
  {
   "cell_type": "code",
   "execution_count": 116,
   "metadata": {},
   "outputs": [
    {
     "name": "stdout",
     "output_type": "stream",
     "text": [
      "Test 1: 0\n",
      "Part 1: 308\n"
     ]
    }
   ],
   "source": [
    "lines_test = [\n",
    "\"p=< 3,0,0>, v=< 2,0,0>, a=<-1,0,0>\",\n",
    "\"p=< 4,0,0>, v=< 0,0,0>, a=<-2,0,0>\"\n",
    "]\n",
    "\n",
    "part_test = getParticles(lines_test)\n",
    "print(\"Test 1:\",minDistance(part_test,n=10))\n",
    "\n",
    "with open(\"data/input20.txt\") as f:\n",
    "    lines = [l.strip(\"\\n\") for l in f.readlines() ]\n",
    "    \n",
    "part = getParticles(lines)\n",
    "print(\"Part 1:\",minDistance(part,n=1000))"
   ]
  },
  {
   "cell_type": "code",
   "execution_count": 126,
   "metadata": {},
   "outputs": [],
   "source": [
    "from itertools import combinations\n",
    "\n",
    "def collisions(_part,n=1000):\n",
    "    \n",
    "    part = deepcopy(_part)\n",
    "    npart_vs_t = [len(part)]\n",
    "    t = 0\n",
    "    while True:\n",
    "        \n",
    "        # check for collisions\n",
    "        npart = len(part)\n",
    "        collided = []\n",
    "        for i,j in combinations(range(npart),2):\n",
    "            dij = sum([ abs(x-y) for x,y in zip(part[i][0],part[j][0]) ]) \n",
    "            if dij==0: # collision!\n",
    "                # store indexes, pop at the end to avoid index shifting and account for multiple collisions \n",
    "                if i not in collided:\n",
    "                    collided.append(i)\n",
    "                if j not in collided:\n",
    "                    collided.append(j)\n",
    "        \n",
    "        # eliminate collided particles\n",
    "        for k in sorted(collided)[::-1]: # pop from highest index to avoid shifting\n",
    "            part.pop(k)\n",
    "        if len(collided):\n",
    "            print(\"t = {} : {} -> {}\".format(t,npart,len(part)))\n",
    "        npart_vs_t.append(len(part))\n",
    "        \n",
    "        # check for stability of particle sample\n",
    "        if len(npart_vs_t)>=n and sum(npart_vs_t[-n:])==n*npart_vs_t[-1]:\n",
    "            return npart_vs_t[-1]\n",
    "        \n",
    "        # evolve system *after* having check for collisions: there could be one at very beginning!\n",
    "        for p in part:\n",
    "            p[1] = [ x+y for x,y in zip(p[1],p[2]) ]\n",
    "            p[0] = [ x+y for x,y in zip(p[0],p[1]) ]\n",
    "        \n",
    "        t +=1"
   ]
  },
  {
   "cell_type": "code",
   "execution_count": 127,
   "metadata": {},
   "outputs": [
    {
     "name": "stdout",
     "output_type": "stream",
     "text": [
      "t = 2 : 4 -> 1\n"
     ]
    },
    {
     "data": {
      "text/plain": [
       "1"
      ]
     },
     "execution_count": 127,
     "metadata": {},
     "output_type": "execute_result"
    }
   ],
   "source": [
    "lines_test2 = [\n",
    "    'p=<-6,0,0>, v=< 3,0,0>, a=< 0,0,0>',    \n",
    "'p=<-4,0,0>, v=< 2,0,0>, a=< 0,0,0>',\n",
    "'p=<-2,0,0>, v=< 1,0,0>, a=< 0,0,0>',\n",
    "'p=< 3,0,0>, v=<-1,0,0>, a=< 0,0,0>'\n",
    "]\n",
    "\n",
    "part_test2 = getParticles(lines_test2)\n",
    "collisions(part_test2,n=10)"
   ]
  },
  {
   "cell_type": "code",
   "execution_count": 128,
   "metadata": {},
   "outputs": [
    {
     "name": "stdout",
     "output_type": "stream",
     "text": [
      "t = 10 : 1000 -> 987\n",
      "t = 11 : 987 -> 976\n",
      "t = 13 : 976 -> 969\n",
      "t = 14 : 969 -> 955\n",
      "t = 15 : 955 -> 933\n",
      "t = 16 : 933 -> 916\n",
      "t = 17 : 916 -> 897\n",
      "t = 18 : 897 -> 885\n",
      "t = 19 : 885 -> 849\n",
      "t = 20 : 849 -> 825\n",
      "t = 21 : 825 -> 787\n",
      "t = 23 : 787 -> 772\n",
      "t = 24 : 772 -> 755\n",
      "t = 25 : 755 -> 729\n",
      "t = 26 : 729 -> 710\n",
      "t = 27 : 710 -> 702\n",
      "t = 28 : 702 -> 696\n",
      "t = 29 : 696 -> 672\n",
      "t = 30 : 672 -> 652\n",
      "t = 31 : 652 -> 629\n",
      "t = 32 : 629 -> 613\n",
      "t = 33 : 613 -> 569\n",
      "t = 34 : 569 -> 560\n",
      "t = 35 : 560 -> 549\n",
      "t = 36 : 549 -> 545\n",
      "t = 37 : 545 -> 542\n",
      "t = 38 : 542 -> 525\n",
      "t = 39 : 525 -> 504\n"
     ]
    },
    {
     "data": {
      "text/plain": [
       "504"
      ]
     },
     "execution_count": 128,
     "metadata": {},
     "output_type": "execute_result"
    }
   ],
   "source": [
    "part = getParticles(lines)\n",
    "collisions(part,n=100)"
   ]
  },
  {
   "cell_type": "code",
   "execution_count": null,
   "metadata": {},
   "outputs": [],
   "source": []
  }
 ],
 "metadata": {
  "kernelspec": {
   "display_name": "Python 3",
   "language": "python",
   "name": "python3"
  },
  "language_info": {
   "codemirror_mode": {
    "name": "ipython",
    "version": 3
   },
   "file_extension": ".py",
   "mimetype": "text/x-python",
   "name": "python",
   "nbconvert_exporter": "python",
   "pygments_lexer": "ipython3",
   "version": "3.9.0"
  }
 },
 "nbformat": 4,
 "nbformat_minor": 4
}
