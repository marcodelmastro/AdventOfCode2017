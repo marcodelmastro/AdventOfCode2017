{
 "cells": [
  {
   "cell_type": "markdown",
   "metadata": {},
   "source": [
    "## Day 23"
   ]
  },
  {
   "cell_type": "code",
   "execution_count": 17,
   "metadata": {},
   "outputs": [],
   "source": [
    "from collections import defaultdict\n",
    "\n",
    "def regOrValue(c,reg):\n",
    "    try:\n",
    "        v = int(c)\n",
    "    except:\n",
    "        v = reg[c]\n",
    "    return v\n",
    "\n",
    "def coprocessor(prog,a=0,count=-1,verbose=False):   \n",
    "    reg = defaultdict(int) \n",
    "    reg['a']=a\n",
    "    i = 0\n",
    "    imul = 0\n",
    "    c = 0\n",
    "    while True:    \n",
    "        if i>=len(prog):\n",
    "            break\n",
    "        cmd = prog[i].split(\" \")        \n",
    "        if cmd[0]==\"set\":\n",
    "            reg[cmd[1]]  = regOrValue(cmd[2],reg)\n",
    "        elif cmd[0]==\"sub\":\n",
    "            reg[cmd[1]] -= regOrValue(cmd[2],reg)\n",
    "        elif cmd[0]==\"mul\":\n",
    "            reg[cmd[1]] *= regOrValue(cmd[2],reg)\n",
    "            imul += 1\n",
    "        elif cmd[0]==\"jnz\":\n",
    "            if regOrValue(cmd[1],reg)!=0:\n",
    "                i += regOrValue(cmd[2],reg) - 1 # will additionally increment by 1 as for all other commands\n",
    "        if verbose: # and reg['h']>0:\n",
    "            #print(reg)\n",
    "            print(i,end=\" - \")\n",
    "            for k,v in zip(reg.keys(),reg.values()):\n",
    "                print(k,v,end=\"\\t\")\n",
    "            print()\n",
    "        if reg['h']>0:\n",
    "            break\n",
    "        i += 1\n",
    "        c += 1\n",
    "        if count>0 and c>count:\n",
    "            break\n",
    "    return imul, reg"
   ]
  },
  {
   "cell_type": "code",
   "execution_count": 18,
   "metadata": {},
   "outputs": [],
   "source": [
    "with open(\"data/input23.txt\") as f:\n",
    "    prog = [l.strip(\"\\n\") for l in f.readlines()]"
   ]
  },
  {
   "cell_type": "code",
   "execution_count": 19,
   "metadata": {},
   "outputs": [
    {
     "name": "stdout",
     "output_type": "stream",
     "text": [
      "Part 1: 5929\n"
     ]
    }
   ],
   "source": [
    "imul, reg = coprocessor(prog)\n",
    "print(\"Part 1:\",imul)"
   ]
  },
  {
   "cell_type": "markdown",
   "metadata": {},
   "source": [
    "## Part 2\n",
    "\n",
    "### Scrutininzing the registers"
   ]
  },
  {
   "cell_type": "code",
   "execution_count": 21,
   "metadata": {},
   "outputs": [
    {
     "name": "stdout",
     "output_type": "stream",
     "text": [
      "0 - a 1\tb 79\t\n",
      "1 - a 1\tb 79\th 0\tc 79\t\n",
      "3 - a 1\tb 79\th 0\tc 79\t\n",
      "4 - a 1\tb 7900\th 0\tc 79\t\n",
      "5 - a 1\tb 107900\th 0\tc 79\t\n",
      "6 - a 1\tb 107900\th 0\tc 107900\t\n",
      "7 - a 1\tb 107900\th 0\tc 124900\t\n",
      "8 - a 1\tb 107900\th 0\tc 124900\tf 1\t\n",
      "9 - a 1\tb 107900\th 0\tc 124900\tf 1\td 2\t\n",
      "10 - a 1\tb 107900\th 0\tc 124900\tf 1\td 2\te 2\t\n",
      "11 - a 1\tb 107900\th 0\tc 124900\tf 1\td 2\te 2\tg 2\t\n",
      "12 - a 1\tb 107900\th 0\tc 124900\tf 1\td 2\te 2\tg 4\t\n",
      "13 - a 1\tb 107900\th 0\tc 124900\tf 1\td 2\te 2\tg -107896\t\n",
      "15 - a 1\tb 107900\th 0\tc 124900\tf 1\td 2\te 2\tg -107896\t\n",
      "16 - a 1\tb 107900\th 0\tc 124900\tf 1\td 2\te 3\tg -107896\t\n",
      "17 - a 1\tb 107900\th 0\tc 124900\tf 1\td 2\te 3\tg 3\t\n",
      "18 - a 1\tb 107900\th 0\tc 124900\tf 1\td 2\te 3\tg -107897\t\n",
      "10 - a 1\tb 107900\th 0\tc 124900\tf 1\td 2\te 3\tg -107897\t\n",
      "11 - a 1\tb 107900\th 0\tc 124900\tf 1\td 2\te 3\tg 2\t\n",
      "12 - a 1\tb 107900\th 0\tc 124900\tf 1\td 2\te 3\tg 6\t\n",
      "13 - a 1\tb 107900\th 0\tc 124900\tf 1\td 2\te 3\tg -107894\t\n",
      "15 - a 1\tb 107900\th 0\tc 124900\tf 1\td 2\te 3\tg -107894\t\n",
      "16 - a 1\tb 107900\th 0\tc 124900\tf 1\td 2\te 4\tg -107894\t\n",
      "17 - a 1\tb 107900\th 0\tc 124900\tf 1\td 2\te 4\tg 4\t\n",
      "18 - a 1\tb 107900\th 0\tc 124900\tf 1\td 2\te 4\tg -107896\t\n",
      "10 - a 1\tb 107900\th 0\tc 124900\tf 1\td 2\te 4\tg -107896\t\n",
      "11 - a 1\tb 107900\th 0\tc 124900\tf 1\td 2\te 4\tg 2\t\n",
      "12 - a 1\tb 107900\th 0\tc 124900\tf 1\td 2\te 4\tg 8\t\n",
      "13 - a 1\tb 107900\th 0\tc 124900\tf 1\td 2\te 4\tg -107892\t\n",
      "15 - a 1\tb 107900\th 0\tc 124900\tf 1\td 2\te 4\tg -107892\t\n",
      "16 - a 1\tb 107900\th 0\tc 124900\tf 1\td 2\te 5\tg -107892\t\n"
     ]
    }
   ],
   "source": [
    "imul, reg = coprocessor(prog,a=1,count=30,verbose=True)\n",
    "#reg"
   ]
  },
  {
   "cell_type": "code",
   "execution_count": 15,
   "metadata": {
    "scrolled": true
   },
   "outputs": [
    {
     "name": "stdout",
     "output_type": "stream",
     "text": [
      "1  -  set b 79\n",
      "2  -  set c b\n",
      "3  -  jnz a 2\n",
      "4  -  jnz 1 5\n",
      "5  -  mul b 100\n",
      "6  -  sub b -100000\n",
      "7  -  set c b\n",
      "8  -  sub c -17000\n",
      "9  -  set f 1\n",
      "10  -  set d 2\n",
      "11  -  set e 2\n",
      "12  -  set g d\n",
      "13  -  mul g e\n",
      "14  -  sub g b\n",
      "15  -  jnz g 2\n",
      "16  -  set f 0\n",
      "17  -  sub e -1\n",
      "18  -  set g e\n",
      "19  -  sub g b\n",
      "20  -  jnz g -8\n",
      "21  -  sub d -1\n",
      "22  -  set g d\n",
      "23  -  sub g b\n",
      "24  -  jnz g -13\n",
      "25  -  jnz f 2\n",
      "26  -  sub h -1\n",
      "27  -  set g b\n",
      "28  -  sub g c\n",
      "29  -  jnz g 2\n",
      "30  -  jnz 1 3\n",
      "31  -  sub b -17\n",
      "32  -  jnz 1 -23\n"
     ]
    }
   ],
   "source": [
    "for i in range(len(prog)):\n",
    "    print(i+1,\" - \",prog[i])"
   ]
  },
  {
   "cell_type": "markdown",
   "metadata": {
    "slideshow": {
     "slide_type": "slide"
    }
   },
   "source": [
    "### Reverse engineer the program\n",
    "\n",
    "* in order to exit, the program has to reach line 30 `jnz 1 3`\n",
    "* to get to line 30, `g` = 0 at line 29 (no jump executed at 31)\n",
    "* given lines 27 and 28, in order to have `g`=0 I need `b`=`c`\n",
    "* if `g` != 0, programs get to line 31 where `sub b -17` increments `b` by 17\n",
    "* the first 10 instructions set `b` = 107900 and `c` = 124900, so part of the program is a loop between 107900 and 124900 at increments of 17, stored in `b`.\n",
    "* line 26 increments `h` (`sub d -1`)\n",
    "* programs gets to line 26 if `g` = 0 (line 24, that otherwise brings it back to line 11) and `f` = 0 (that otherwise jumps to 27, where, assuming  `g` = 0, programs runs to its end\n",
    "* `f` = 0 if `g` = 0 at line 15\n",
    "* `g` = 0 at line 15 if `d`*`e`=`b` (lines 12, 13 and 14)\n",
    "* `d` and `e` increment by 1 each in a loop (lines 17 and 21) and both `d` and `e` **begins at 2**\n",
    "* in order to advance further I also need to pass line 20 `jnz g -8` with `g`=0\n",
    "* in order to satify the above conditions, `b` must be divisible by at least a number greater or equal then 2, thus **`b` must not be prime**\n",
    "\n",
    "**I think the program counts the non-prime numbers in the sequence between 107900 and 124900 with increments of 17**"
   ]
  },
  {
   "cell_type": "code",
   "execution_count": 29,
   "metadata": {},
   "outputs": [
    {
     "name": "stdout",
     "output_type": "stream",
     "text": [
      "907\n"
     ]
    }
   ],
   "source": [
    "h = 0\n",
    "for b in range(107900,124900+1,17):\n",
    "    for d in range(2,b):\n",
    "        if b%d==0:\n",
    "            h+=1\n",
    "            break\n",
    "print(h)"
   ]
  },
  {
   "cell_type": "code",
   "execution_count": null,
   "metadata": {},
   "outputs": [],
   "source": []
  }
 ],
 "metadata": {
  "kernelspec": {
   "display_name": "Python 3",
   "language": "python",
   "name": "python3"
  },
  "language_info": {
   "codemirror_mode": {
    "name": "ipython",
    "version": 3
   },
   "file_extension": ".py",
   "mimetype": "text/x-python",
   "name": "python",
   "nbconvert_exporter": "python",
   "pygments_lexer": "ipython3",
   "version": "3.9.0"
  }
 },
 "nbformat": 4,
 "nbformat_minor": 4
}
