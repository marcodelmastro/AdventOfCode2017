{
 "cells": [
  {
   "cell_type": "markdown",
   "metadata": {},
   "source": [
    "## Day 23"
   ]
  },
  {
   "cell_type": "code",
   "execution_count": 112,
   "metadata": {},
   "outputs": [],
   "source": [
    "from collections import defaultdict\n",
    "\n",
    "def regOrValue(c,reg):\n",
    "    try:\n",
    "        v = int(c)\n",
    "    except:\n",
    "        v = reg[c]\n",
    "    return v\n",
    "\n",
    "def coprocessor(prog,a=0,h=0,verbose=False):   \n",
    "    reg = defaultdict(int) \n",
    "    reg['a']=a\n",
    "    reg['h']=h\n",
    "    i = 0\n",
    "    imul = 0\n",
    "    while True:    \n",
    "        if i>=len(prog):\n",
    "            break\n",
    "        cmd = prog[i].split(\" \")        \n",
    "        if verbose:\n",
    "            print(cmd)\n",
    "        if cmd[0]==\"set\":\n",
    "            reg[cmd[1]]  = regOrValue(cmd[2],reg)\n",
    "        elif cmd[0]==\"sub\":\n",
    "            reg[cmd[1]] -= regOrValue(cmd[2],reg)\n",
    "        elif cmd[0]==\"mul\":\n",
    "            reg[cmd[1]] *= regOrValue(cmd[2],reg)\n",
    "            imul += 1\n",
    "        elif cmd[0]==\"jnz\":\n",
    "            if regOrValue(cmd[1],reg)!=0:\n",
    "                i += regOrValue(cmd[2],reg) - 1 # will additionally increment by 1 as for all other commands\n",
    "        i += 1\n",
    "    return imul, reg"
   ]
  },
  {
   "cell_type": "code",
   "execution_count": 113,
   "metadata": {},
   "outputs": [],
   "source": [
    "with open(\"data/input23.txt\") as f:\n",
    "    prog = [l.strip(\"\\n\") for l in f.readlines()]"
   ]
  },
  {
   "cell_type": "code",
   "execution_count": 114,
   "metadata": {},
   "outputs": [
    {
     "name": "stdout",
     "output_type": "stream",
     "text": [
      "Part 1: 5929\n"
     ]
    }
   ],
   "source": [
    "imul, reg = coprocessor(prog)\n",
    "print(\"Part 1:\",imul)"
   ]
  },
  {
   "cell_type": "code",
   "execution_count": null,
   "metadata": {},
   "outputs": [],
   "source": [
    "#imul, reg = coprocessor(prog,a=1,verbose=False)\n",
    "#reg"
   ]
  },
  {
   "cell_type": "code",
   "execution_count": null,
   "metadata": {},
   "outputs": [],
   "source": []
  }
 ],
 "metadata": {
  "kernelspec": {
   "display_name": "Python 3",
   "language": "python",
   "name": "python3"
  },
  "language_info": {
   "codemirror_mode": {
    "name": "ipython",
    "version": 3
   },
   "file_extension": ".py",
   "mimetype": "text/x-python",
   "name": "python",
   "nbconvert_exporter": "python",
   "pygments_lexer": "ipython3",
   "version": "3.9.0"
  }
 },
 "nbformat": 4,
 "nbformat_minor": 4
}
