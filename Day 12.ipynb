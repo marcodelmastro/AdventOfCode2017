{
 "cells": [
  {
   "cell_type": "markdown",
   "metadata": {},
   "source": [
    "## Day 12"
   ]
  },
  {
   "cell_type": "code",
   "execution_count": 74,
   "metadata": {},
   "outputs": [],
   "source": [
    "def getPipes(lines):\n",
    "    pipes = {}\n",
    "    for l in lines:\n",
    "        p = l.strip(\"\\n\").split(\" <-> \")\n",
    "        pipes[int(p[0])] = [int(o) for o in p[1].split(\",\")]\n",
    "    return pipes\n",
    "\n",
    "def findGroup(pipes,root=0):\n",
    "    group = []\n",
    "    pp = [ root ] \n",
    "    l0 = 100000\n",
    "    l1 = len(group)\n",
    "    while l0!=l1:\n",
    "        for p in pp:\n",
    "            if p not in group:\n",
    "                group.append(p)\n",
    "                pp.pop(pp.index(p))\n",
    "                for q in pipes[p]:\n",
    "                    if q not in pp:\n",
    "                        pp.append(q)\n",
    "        l0 = l1\n",
    "        l1 = len(group)\n",
    "    return group\n",
    "\n",
    "def getGroups(pipes):\n",
    "    groups = []\n",
    "    for pr in pipes.keys():\n",
    "        pg = findGroup(pipes,pr)\n",
    "        if sorted(pg) not in groups:\n",
    "            groups.append(sorted(pg))\n",
    "    return groups"
   ]
  },
  {
   "cell_type": "code",
   "execution_count": 75,
   "metadata": {},
   "outputs": [
    {
     "name": "stdout",
     "output_type": "stream",
     "text": [
      "Test 1: 6\n",
      "Part 1: 288\n",
      "Test 2: 2\n",
      "Part 2: 211\n"
     ]
    }
   ],
   "source": [
    "lines_test = [\n",
    "    '0 <-> 2',\n",
    "    '1 <-> 1',\n",
    "    '2 <-> 0, 3, 4',\n",
    "    '3 <-> 2, 4',\n",
    "    '4 <-> 2, 3, 6',\n",
    "    '5 <-> 6',\n",
    "    '6 <-> 4, 5'   \n",
    "]\n",
    "\n",
    "with open(\"data/input12.txt\") as f:\n",
    "    lines = [ l.strip(\"\\n\") for l in f.readlines() ]\n",
    "\n",
    "pipes_test = getPipes(lines_test)\n",
    "pipes = getPipes(lines)\n",
    "\n",
    "print(\"Test 1:\",len(findGroup(pipes_test)))\n",
    "print(\"Part 1:\",len(findGroup(pipes)))\n",
    "print(\"Test 2:\",len(getGroups(pipes_test)))\n",
    "print(\"Part 2:\",len(getGroups(pipes)))"
   ]
  },
  {
   "cell_type": "code",
   "execution_count": null,
   "metadata": {},
   "outputs": [],
   "source": []
  }
 ],
 "metadata": {
  "kernelspec": {
   "display_name": "Python 3",
   "language": "python",
   "name": "python3"
  },
  "language_info": {
   "codemirror_mode": {
    "name": "ipython",
    "version": 3
   },
   "file_extension": ".py",
   "mimetype": "text/x-python",
   "name": "python",
   "nbconvert_exporter": "python",
   "pygments_lexer": "ipython3",
   "version": "3.9.0"
  }
 },
 "nbformat": 4,
 "nbformat_minor": 4
}
