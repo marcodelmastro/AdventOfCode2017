{
 "cells": [
  {
   "cell_type": "markdown",
   "metadata": {},
   "source": [
    "## Day 9"
   ]
  },
  {
   "cell_type": "code",
   "execution_count": 41,
   "metadata": {},
   "outputs": [],
   "source": [
    "def removeGarbage(stream):\n",
    "    clean = r\"\"\n",
    "    isGarbage = False\n",
    "    i = 0\n",
    "    while i<len(stream):\n",
    "        c = stream[i]\n",
    "        if c==\"<\": # garbage begins\n",
    "            isGarbage = True\n",
    "        elif c==\"!\": # ignore next character\n",
    "            i+=1   \n",
    "        elif c==\">\": # garbage ends (but don't add to clean stream)\n",
    "            isGarbage = False\n",
    "        if not isGarbage and c!=\">\":\n",
    "            clean += c\n",
    "        i+=1\n",
    "    return clean\n",
    "\n",
    "def groupsScore(s):\n",
    "    score = 0\n",
    "    op = 0\n",
    "    for c in s:\n",
    "        if c==\"{\":\n",
    "            op+=1\n",
    "        if c==\"}\":\n",
    "            score+=op\n",
    "            op-=1\n",
    "    return score\n",
    "\n",
    "def getGarbage(stream):\n",
    "    garbage = r\"\"\n",
    "    isGarbage = False\n",
    "    garbageSlice = r\"\"\n",
    "    i = 0\n",
    "    while i<len(stream):\n",
    "        c = stream[i]\n",
    "        if c==\"<\": # garbage begins\n",
    "            isGarbage = True\n",
    "        elif c==\"!\": # ignore next character\n",
    "            i+=1   \n",
    "        elif c==\">\": # garbage ends (but don't add to clean stream)\n",
    "            isGarbage = False\n",
    "        if isGarbage and c!=\"!\":\n",
    "            garbageSlice += c\n",
    "        if not isGarbage:\n",
    "            garbage += garbageSlice[1:]\n",
    "            garbageSlice = \"\"\n",
    "        i+=1\n",
    "    return garbage"
   ]
  },
  {
   "cell_type": "code",
   "execution_count": 44,
   "metadata": {},
   "outputs": [
    {
     "name": "stdout",
     "output_type": "stream",
     "text": [
      "Part 1:  15922\n",
      "Part 2:  7314\n"
     ]
    }
   ],
   "source": [
    "with open('data/input09.txt') as f:\n",
    "    stream = f.readlines()[0].strip(\"\\n\")\n",
    "\n",
    "print(\"Part 1: \",groupsScore(removeGarbage(stream)))\n",
    "print(\"Part 2: \",len(getGarbage(stream)))"
   ]
  },
  {
   "cell_type": "code",
   "execution_count": null,
   "metadata": {},
   "outputs": [],
   "source": []
  }
 ],
 "metadata": {
  "kernelspec": {
   "display_name": "Python 3",
   "language": "python",
   "name": "python3"
  },
  "language_info": {
   "codemirror_mode": {
    "name": "ipython",
    "version": 3
   },
   "file_extension": ".py",
   "mimetype": "text/x-python",
   "name": "python",
   "nbconvert_exporter": "python",
   "pygments_lexer": "ipython3",
   "version": "3.9.0"
  }
 },
 "nbformat": 4,
 "nbformat_minor": 4
}
