{
 "cells": [
  {
   "cell_type": "markdown",
   "metadata": {},
   "source": [
    "## Day 24"
   ]
  },
  {
   "cell_type": "code",
   "execution_count": 281,
   "metadata": {},
   "outputs": [],
   "source": [
    "from copy import deepcopy\n",
    "from collections import defaultdict\n",
    "\n",
    "def strenghtB(b,comp):\n",
    "    s = 0\n",
    "    for ic in b:\n",
    "        s += sum(comp[abs(ic)])\n",
    "    return s\n",
    "\n",
    "def buildBridges(comp_,npurge=10000000):\n",
    "\n",
    "    comp = deepcopy(comp_)\n",
    "    \n",
    "    # find [0/X] components \n",
    "    starts = []\n",
    "    for c in comp:\n",
    "        if c[0] == 0:\n",
    "            starts.append(c)\n",
    "\n",
    "    # place them at begining of comp array to avoid components with index 0\n",
    "    for s in starts:\n",
    "        comp.pop(comp.index(s))\n",
    "        comp = [s]+comp\n",
    "        if c[0] == 0:\n",
    "            starts.append(c)\n",
    "\n",
    "    # initialize bridges\n",
    "    bridges = [ [ comp.index(s)] for s in starts ]\n",
    "\n",
    "    # build bridges as sequence of component indexes. Negative indexes indicates reversed direction\n",
    "    while True:\n",
    "        #print(bridges)\n",
    "        bridges_new = []\n",
    "        for b in bridges:\n",
    "            for ic in range(len(comp)):\n",
    "                bnew = list(b)\n",
    "                if ic not in b and -ic not in b:\n",
    "                    if bnew[-1]>=0:\n",
    "                        if comp[bnew[-1]][1] == comp[ic][0]:\n",
    "                            bnew.append(ic)\n",
    "                        elif comp[bnew[-1]][1] == comp[ic][1]:\n",
    "                            bnew.append(-ic)\n",
    "                    elif bnew[-1]<0:\n",
    "                        if comp[-bnew[-1]][0] == comp[ic][1]:\n",
    "                            bnew.append(-ic)\n",
    "                        elif comp[-bnew[-1]][0] == comp[ic][0]:\n",
    "                            bnew.append(ic)\n",
    "                if bnew not in bridges_new: \n",
    "                    bridges_new.append(bnew)\n",
    "                    \n",
    "        # I should find an heuristic to prune the bridges to avoid explosing the queue!\n",
    "        #print(\"N_bridges =\",len(bridges_new))\n",
    "        #if len(bridges) == len(bridges_new):\n",
    "        #    return bridges_new, comp # returns also the rearranged component list\n",
    "        #bridges = deepcopy(bridges_new)\n",
    "        \n",
    "        # Idea: computing the strenghs for the current bridge selection, and only keep the npurge bridges \n",
    "        # with highest streght. This might work if npurge is large enough, e.g. keeping enough low-strenght \n",
    "        # segments that could stil evolve toward stronger ones. I should also test how the result depends \n",
    "        # on npurge\n",
    "        strenghts = [strenghtB(b,comp) for b in bridges_new]\n",
    "        bridges_sel = []\n",
    "        if len(strenghts)>=npurge:\n",
    "            select = sorted(strenghts)[-npurge:]\n",
    "            for s in select:\n",
    "                bridges_sel.append(bridges_new[strenghts.index(s)])\n",
    "        else:\n",
    "            bridges_sel = deepcopy(bridges_new)\n",
    "        if len(bridges) == len(bridges_sel):\n",
    "            return bridges_sel, comp \n",
    "        bridges = deepcopy(bridges_sel)\n",
    "\n",
    "def maxStrenght(comp,npurge=1_000_000):\n",
    "    bridges,comp_r = buildBridges(comp,npurge) \n",
    "    return max([strenghtB(b,comp_r) for b in bridges])"
   ]
  },
  {
   "cell_type": "code",
   "execution_count": 301,
   "metadata": {},
   "outputs": [
    {
     "name": "stdout",
     "output_type": "stream",
     "text": [
      "Test 1. Max strenght = 31\n"
     ]
    }
   ],
   "source": [
    "lines = [\n",
    "    '0/2',\n",
    "    '2/2',\n",
    "    '2/3',\n",
    "    '3/4',\n",
    "    '3/5',\n",
    "    '0/1',\n",
    "    '10/1',\n",
    "    '9/10'  \n",
    "]\n",
    "\n",
    "comp_test = [ [ int(q) for q in l.split(\"/\") ] for l in lines ] \n",
    "maxstr_test = maxStrenght(comp_test)\n",
    "print(\"Test 1. Max strenght =\",maxstr_test)"
   ]
  },
  {
   "cell_type": "code",
   "execution_count": 308,
   "metadata": {},
   "outputs": [
    {
     "name": "stdout",
     "output_type": "stream",
     "text": [
      "Part 1. Max strenght = 1859\n"
     ]
    }
   ],
   "source": [
    "with open('data/input24.txt') as f:\n",
    "    comp = [ [ int(q) for q in l.split(\"/\") ] for l in f.readlines() ]\n",
    "\n",
    "maxstr = maxStrenght(comp,npurge=3000) # some stydy of dependence of result on npurge was necessary :-)\n",
    "print(\"Part 1. Max strenght =\",maxstr)"
   ]
  },
  {
   "cell_type": "code",
   "execution_count": 304,
   "metadata": {},
   "outputs": [],
   "source": [
    "def longestBridges(comp_,nprune=1_000_000):\n",
    "\n",
    "    comp = deepcopy(comp_)\n",
    "    \n",
    "    # find [0/X] components \n",
    "    starts = []\n",
    "    for c in comp:\n",
    "        if c[0] == 0:\n",
    "            starts.append(c)\n",
    "\n",
    "    # place them at begining of comp array to avoid components with index 0\n",
    "    for s in starts:\n",
    "        comp.pop(comp.index(s))\n",
    "        comp = [s]+comp\n",
    "        if c[0] == 0:\n",
    "            starts.append(c)\n",
    "\n",
    "    # initialize bridges\n",
    "    bridges = [ [ comp.index(s)] for s in starts ]\n",
    "\n",
    "    # build bridges as sequence of component indexes. Negative indexes indicates reversed direction\n",
    "    while True:\n",
    "        #print(bridges)\n",
    "        bridges_new = []\n",
    "        for b in bridges:\n",
    "            for ic in range(len(comp)):\n",
    "                bnew = list(b)\n",
    "                if ic not in b and -ic not in b:\n",
    "                    if bnew[-1]>=0:\n",
    "                        if comp[bnew[-1]][1] == comp[ic][0]:\n",
    "                            bnew.append(ic)\n",
    "                        elif comp[bnew[-1]][1] == comp[ic][1]:\n",
    "                            bnew.append(-ic)\n",
    "                    elif bnew[-1]<0:\n",
    "                        if comp[-bnew[-1]][0] == comp[ic][1]:\n",
    "                            bnew.append(-ic)\n",
    "                        elif comp[-bnew[-1]][0] == comp[ic][0]:\n",
    "                            bnew.append(ic)\n",
    "                if bnew not in bridges_new: \n",
    "                    bridges_new.append(bnew)\n",
    "\n",
    "        # pruning shortest bridges\n",
    "        lenghts = [ len(b) for b in bridges_new ]\n",
    "        bridges_long = []\n",
    "        for il in range(len(lenghts)):\n",
    "            if lenghts[il]==max(lenghts):\n",
    "                bridges_long.append(bridges_new[il])\n",
    "        \n",
    "        # apply same pruning based on strenght as in Part 1 to speed up convergence\n",
    "        strenghts = [strenghtB(b,comp) for b in bridges_long]\n",
    "        bridges_sel = []\n",
    "        if len(strenghts)>=npurge:\n",
    "            select = sorted(strenghts)[-npurge:]\n",
    "            for s in select:\n",
    "                bridges_sel.append(bridges_long[strenghts.index(s)])\n",
    "        else:\n",
    "            bridges_sel = deepcopy(bridges_long)\n",
    "        \n",
    "        if len(bridges) == len(bridges_sel):\n",
    "            return bridges_sel, comp\n",
    "        bridges = deepcopy(bridges_sel)"
   ]
  },
  {
   "cell_type": "code",
   "execution_count": 305,
   "metadata": {},
   "outputs": [
    {
     "name": "stdout",
     "output_type": "stream",
     "text": [
      "Test 2. Strenght longest = 19\n"
     ]
    }
   ],
   "source": [
    "longest_test,comp_r_test = longestBridges(comp_test)\n",
    "print(\"Test 2. Strenght longest =\",max([ strenghtB(b,comp_r_test) for b in longest_test ]))"
   ]
  },
  {
   "cell_type": "code",
   "execution_count": 306,
   "metadata": {},
   "outputs": [
    {
     "name": "stdout",
     "output_type": "stream",
     "text": [
      "Part 2. Strenght longest = 1799\n"
     ]
    }
   ],
   "source": [
    "longest,comp_r = longestBridges(comp,3000)\n",
    "print(\"Part 2. Strenght longest =\",max([ strenghtB(b,comp_r) for b in longest ]))"
   ]
  },
  {
   "cell_type": "code",
   "execution_count": null,
   "metadata": {},
   "outputs": [],
   "source": []
  }
 ],
 "metadata": {
  "kernelspec": {
   "display_name": "Python 3",
   "language": "python",
   "name": "python3"
  },
  "language_info": {
   "codemirror_mode": {
    "name": "ipython",
    "version": 3
   },
   "file_extension": ".py",
   "mimetype": "text/x-python",
   "name": "python",
   "nbconvert_exporter": "python",
   "pygments_lexer": "ipython3",
   "version": "3.9.0"
  }
 },
 "nbformat": 4,
 "nbformat_minor": 4
}
