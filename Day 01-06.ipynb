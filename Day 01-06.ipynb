{
 "cells": [
  {
   "cell_type": "markdown",
   "metadata": {},
   "source": [
    "## Day 1"
   ]
  },
  {
   "cell_type": "code",
   "execution_count": 2,
   "metadata": {},
   "outputs": [
    {
     "name": "stdout",
     "output_type": "stream",
     "text": [
      "Part 1: 1223\n",
      "Part w: 1284\n"
     ]
    }
   ],
   "source": [
    "with open('data/input01.txt') as f:\n",
    "    l = f.readlines()[0].strip(\"\\n\")\n",
    "\n",
    "print(\"Part 1:\",sum([ int(a) for a,b in zip(l[0:],l[1:]+l[0]) if a==b]))\n",
    "print(\"Part 2:\",sum([ int(a) for a,b in zip(l[0:],l[len(l)//2:]+l[0:len(l)//2]) if a==b]))"
   ]
  },
  {
   "cell_type": "markdown",
   "metadata": {},
   "source": [
    "## Day 2"
   ]
  },
  {
   "cell_type": "code",
   "execution_count": 29,
   "metadata": {},
   "outputs": [
    {
     "name": "stdout",
     "output_type": "stream",
     "text": [
      "Part 1: 45972\n",
      "Part 2: 326\n"
     ]
    }
   ],
   "source": [
    "with open('data/input02.txt') as f:\n",
    "    spreadsheet = [ [ int(i) for i in l.strip(\"\\n\").split(\"\\t\") ] for l in f.readlines() ]\n",
    "\n",
    "checksum = 0\n",
    "for s in spreadsheet:\n",
    "    checksum += max(s)-min(s)\n",
    "print(\"Part 1:\",checksum)\n",
    "\n",
    "from itertools import permutations\n",
    "\n",
    "checksum = 0\n",
    "for s in spreadsheet:\n",
    "    for i,j in permutations(s,2):\n",
    "        if i!=j and i//j == i/j:\n",
    "            checksum += i//j\n",
    "print(\"Part 2:\",checksum)  "
   ]
  },
  {
   "cell_type": "markdown",
   "metadata": {},
   "source": [
    "## Day 3"
   ]
  },
  {
   "cell_type": "code",
   "execution_count": 61,
   "metadata": {},
   "outputs": [
    {
     "name": "stdout",
     "output_type": "stream",
     "text": [
      "Part 1: 326\n",
      "Part 2: 363010\n"
     ]
    }
   ],
   "source": [
    "def distance(target):\n",
    "    d = 1\n",
    "    v = 1\n",
    "    inc = 1\n",
    "    p = 0 \n",
    "    while True:\n",
    "        for side in (1,2):\n",
    "            for _ in range(inc):\n",
    "                v+=1 # increment value\n",
    "                p+=d # change position in spiral\n",
    "                if v==target:\n",
    "                    return int(abs(p.real)+abs(p.imag)) \n",
    "            d *= 1j # change directions using complex numbers\n",
    "        inc +=1\n",
    "        \n",
    "print(\"Part 1:\",distance(361527))\n",
    "\n",
    "from collections import defaultdict\n",
    "\n",
    "def neighbours(p):\n",
    "    return [ p-1+1j , p+1j , p+1+1j,\n",
    "             p-1    ,        p+1   , \n",
    "             p-1-1j , p-1j , p+1-1j ]\n",
    "\n",
    "def spiral(target):\n",
    "    d = 1\n",
    "    v = 1\n",
    "    inc = 1\n",
    "    p = 0 \n",
    "    value = defaultdict(lambda: 0) # store values according to (complex) position\n",
    "    value[p] = v\n",
    "    while True:\n",
    "        for side in (1,2):\n",
    "            for _ in range(inc):\n",
    "                p+=d # change position in spiral\n",
    "                v = 0\n",
    "                for n in neighbours(p): # sum values of neigbours, if present (0 otherwise)\n",
    "                    v += value[n] \n",
    "                if v>target:\n",
    "                    return v\n",
    "                value[p] = v\n",
    "            d *= 1j # change directions using complex numbers\n",
    "        inc +=1\n",
    "        \n",
    "print(\"Part 2:\",spiral(361527))"
   ]
  },
  {
   "cell_type": "markdown",
   "metadata": {},
   "source": [
    "## Day 4"
   ]
  },
  {
   "cell_type": "code",
   "execution_count": 86,
   "metadata": {},
   "outputs": [
    {
     "name": "stdout",
     "output_type": "stream",
     "text": [
      "Part 1: 477\n",
      "Part 2: 167\n"
     ]
    }
   ],
   "source": [
    "with open(\"data/input04.txt\") as f:\n",
    "    phrases = [ [ w for w in p.strip(\"\\n\").split(\" \") ] for p in f.readlines() ]\n",
    "\n",
    "from collections import Counter\n",
    "\n",
    "valid = 0\n",
    "for p in phrases:\n",
    "    count = Counter(p)\n",
    "    if count.most_common()[0][1] == 1:\n",
    "        valid += 1\n",
    "print(\"Part 1:\",valid)\n",
    "\n",
    "from itertools import permutations\n",
    "\n",
    "notvalid = 0\n",
    "for p in phrases:\n",
    "    for a,b in permutations(p,2):\n",
    "        if sorted(a)==sorted(b):\n",
    "            notvalid +=1\n",
    "            break\n",
    "print(\"Part 2:\",len(phrases)-notvalid)"
   ]
  },
  {
   "cell_type": "markdown",
   "metadata": {},
   "source": [
    "## Day 5"
   ]
  },
  {
   "cell_type": "code",
   "execution_count": 144,
   "metadata": {},
   "outputs": [
    {
     "name": "stdout",
     "output_type": "stream",
     "text": [
      "Test 1: 5\n",
      "Part 1: 359348\n",
      "Test 2: 10\n",
      "Part 2: 27688760\n"
     ]
    }
   ],
   "source": [
    "def steps(instr,part=1,verbose=False):\n",
    "    offset = 0\n",
    "    steps = 0\n",
    "    i = 0\n",
    "    while i<len(instr):\n",
    "        jump = instr[i]\n",
    "        if verbose: print(i,instr,jump)\n",
    "        if part==2 and jump >=3:\n",
    "            instr[i] -= 1\n",
    "        else:\n",
    "            instr[i] += 1\n",
    "        i += jump\n",
    "        steps +=1\n",
    "    return(steps)\n",
    "\n",
    "instr_test = [0,3,0,1,-3 ]\n",
    "\n",
    "with open(\"data/input05.txt\") as f:\n",
    "    instr = [ int(i) for i in f.readlines() ]\n",
    "\n",
    "# don't forget to copy the instructions with list()!\n",
    "print(\"Test 1:\",steps(list(instr_test)))\n",
    "print(\"Part 1:\",steps(list(instr))) \n",
    "print(\"Test 2:\",steps(list(instr_test),part=2))\n",
    "print(\"Part 2:\",steps(list(instr),part=2))"
   ]
  },
  {
   "cell_type": "markdown",
   "metadata": {},
   "source": [
    "## Day 6"
   ]
  },
  {
   "cell_type": "code",
   "execution_count": 197,
   "metadata": {},
   "outputs": [
    {
     "name": "stdout",
     "output_type": "stream",
     "text": [
      "[0, 2, 7, 0]\n",
      "[2, 4, 1, 2]\n",
      "[3, 1, 2, 3]\n",
      "[0, 2, 3, 4]\n",
      "[1, 3, 4, 1]\n",
      "[2, 4, 1, 2]\n",
      "Test 1: 5\n",
      "Test 2: 4\n",
      "Part 1: 5042\n",
      "Part 2: 1086\n"
     ]
    }
   ],
   "source": [
    "def redistribute(bank):\n",
    "    m = max(bank)\n",
    "    im = bank.index(m)\n",
    "    bank[im]=0\n",
    "    j = (im+1)%len(bank)\n",
    "    for _ in range(m):\n",
    "        bank[j] += 1\n",
    "        j = (j+1)%len(bank)\n",
    "    return bank\n",
    "\n",
    "from collections import defaultdict\n",
    "\n",
    "def cycles(bank,verbose=False):\n",
    "    if verbose: print(bank)\n",
    "    states = defaultdict(lambda:0)\n",
    "    cycles = 0\n",
    "    states[\"-\".join([str(i) for i in bank])]=cycles\n",
    "    while True:\n",
    "        bank = redistribute(bank)\n",
    "        cycles +=1\n",
    "        if verbose: print(bank)\n",
    "        h = \"-\".join([str(i) for i in bank])\n",
    "        if states[h]>0:\n",
    "            return cycles,states[h]\n",
    "            break\n",
    "        else:\n",
    "            states[h]=cycles\n",
    "\n",
    "cycl, first = cycles([0, 2, 7, 0],True)\n",
    "print(\"Test 1:\",cycl)\n",
    "print(\"Test 2:\",cycl-first)\n",
    "\n",
    "with open(\"data/input06.txt\") as f:\n",
    "    bank = [ int(i) for i in f.readlines()[0].strip(\"\\n\").split(\"\\t\")]\n",
    "\n",
    "cycl, first = cycles(bank)\n",
    "print(\"Part 1:\",cycl)\n",
    "print(\"Part 2:\",cycl-first)"
   ]
  },
  {
   "cell_type": "markdown",
   "metadata": {},
   "source": [
    "## Day 7"
   ]
  },
  {
   "cell_type": "code",
   "execution_count": 159,
   "metadata": {},
   "outputs": [
    {
     "name": "stdout",
     "output_type": "stream",
     "text": [
      "Test 1: tknk\n",
      "Part 1: bpvhwhh\n",
      "Test 2: ugml \t delta = -8 , weight = 68 -> 60\n",
      "Part 2: tulwp \t delta = -8 , weight = 264 -> 256\n"
     ]
    }
   ],
   "source": [
    "def readInput7(filename):\n",
    "    weight = {}\n",
    "    node = {}\n",
    "    with open(filename) as f:\n",
    "        for l in f.readlines():\n",
    "            a = l.strip(\"\\n\").split(\" -> \")\n",
    "            weight[a[0].split(\" \")[0]] = int(a[0].split(\" \")[1].replace(\"(\",\"\").replace(\")\",\"\"))\n",
    "            if len(a)==2:\n",
    "                node[a[0].split(\" \")[0]] = a[1].split(\", \")\n",
    "    return weight,node\n",
    "\n",
    "def findBottom(node,weight):\n",
    "    s = list(weight.keys())[0]    \n",
    "    while True:\n",
    "        i = 0\n",
    "        for n in node.keys():\n",
    "            if s in node[n]:\n",
    "                s = n\n",
    "                break\n",
    "            i += 1\n",
    "        if i==len(node):\n",
    "            return s\n",
    "\n",
    "weight,node = readInput7(\"data/day07example.txt\")\n",
    "print(\"Test 1:\",findBottom(node,weight))\n",
    "\n",
    "weight,node = readInput7(\"data/input07.txt\")\n",
    "print(\"Part 1:\",findBottom(node,weight))\n",
    "\n",
    "def towerWeight(n,node,weight):\n",
    "    if n in node.keys():\n",
    "        return weight[n] + sum( [ towerWeight(m,node,weight) for m in node[n] ] )\n",
    "    else:\n",
    "        return weight[n]\n",
    "\n",
    "from collections import Counter\n",
    "\n",
    "def findDelta(node,weight):\n",
    "    # find faulty weight\n",
    "    b = findBottom(node,weight)\n",
    "    while True:\n",
    "        counter = Counter([towerWeight(w,node,weight) for w in node[b]])\n",
    "        if len(counter)==1: # change is in node\n",
    "            break\n",
    "        else: # change is in leaves        \n",
    "            for n in node[b]:\n",
    "                if towerWeight(n,node,weight) == counter.most_common()[1][0]:\n",
    "                    b = n\n",
    "                    break\n",
    "            if b in node.keys():\n",
    "                pass\n",
    "            else:\n",
    "                break\n",
    "    # fix faulty weight\n",
    "    for n in node.keys():\n",
    "        if b in node[n]:\n",
    "            counter = Counter([towerWeight(w,node,weight) for w in node[n]])\n",
    "            break\n",
    "    return b,counter.most_common()[0][0]-counter.most_common()[1][0]\n",
    "\n",
    "weight,node = readInput7(\"data/day07example.txt\")\n",
    "b,delta = findDelta(node,weight)\n",
    "print(\"Test 2:\",b,\"\\t delta =\", delta,\", weight =\",weight[b],\"->\",weight[b]+delta)\n",
    "\n",
    "weight,node = readInput7(\"data/input07.txt\")\n",
    "b,delta = findDelta(node,weight)\n",
    "print(\"Part 2:\",b,\"\\t delta =\", delta,\", weight =\",weight[b],\"->\",weight[b]+delta)"
   ]
  },
  {
   "cell_type": "code",
   "execution_count": null,
   "metadata": {},
   "outputs": [],
   "source": []
  }
 ],
 "metadata": {
  "kernelspec": {
   "display_name": "Python 3",
   "language": "python",
   "name": "python3"
  },
  "language_info": {
   "codemirror_mode": {
    "name": "ipython",
    "version": 3
   },
   "file_extension": ".py",
   "mimetype": "text/x-python",
   "name": "python",
   "nbconvert_exporter": "python",
   "pygments_lexer": "ipython3",
   "version": "3.9.0"
  }
 },
 "nbformat": 4,
 "nbformat_minor": 4
}
