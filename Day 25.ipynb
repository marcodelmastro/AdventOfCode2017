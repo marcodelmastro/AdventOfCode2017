{
 "cells": [
  {
   "cell_type": "markdown",
   "metadata": {},
   "source": [
    "## Day 25\n",
    "\n",
    "Too lazy to automatically parse the inputs, I'll do it by hand with a fre find-and-replace. Carefule with some `if` that should become `elif` to avoid double actions at each iteration!"
   ]
  },
  {
   "cell_type": "code",
   "execution_count": 17,
   "metadata": {},
   "outputs": [
    {
     "name": "stdout",
     "output_type": "stream",
     "text": [
      "3\n"
     ]
    }
   ],
   "source": [
    "from collections import defaultdict\n",
    "\n",
    "tape = defaultdict(int)\n",
    "p = 0\n",
    "state = 'A'\n",
    "\n",
    "n = 6\n",
    "for _ in range(n):\n",
    "    if state=='A':\n",
    "        if tape[p]==0:\n",
    "            tape[p] = 1\n",
    "            p += 1\n",
    "            state = 'B'\n",
    "        elif tape[p]==1:\n",
    "            tape[p] = 0\n",
    "            p -= 1\n",
    "            state = \"B\"\n",
    "    elif state=='B':\n",
    "        if tape[p]==0:\n",
    "            tape[p] = 1\n",
    "            p -= 1\n",
    "            state = 'A'\n",
    "        elif tape[p]==1:\n",
    "            tape[p] = 1\n",
    "            p += 1\n",
    "            state = \"A\"\n",
    "            \n",
    "print(sum(list(tape.values())))"
   ]
  },
  {
   "cell_type": "code",
   "execution_count": 23,
   "metadata": {},
   "outputs": [
    {
     "name": "stdout",
     "output_type": "stream",
     "text": [
      "2846\n"
     ]
    }
   ],
   "source": [
    "from collections import defaultdict\n",
    "\n",
    "n = 12994925\n",
    "\n",
    "tape = defaultdict(int)\n",
    "p = 0\n",
    "state='A'\n",
    "\n",
    "for _ in range(n):\n",
    "    \n",
    "    if state=='A':\n",
    "        if tape[p] == 0:\n",
    "            tape[p] = 1\n",
    "            p += 1\n",
    "            state = 'B'\n",
    "        elif tape[p] == 1:\n",
    "            tape[p] = 0\n",
    "            p -= 1\n",
    "            state = 'F'\n",
    "\n",
    "    elif state=='B':\n",
    "        if tape[p] == 0:\n",
    "            tape[p] = 0\n",
    "            p += 1\n",
    "            state = 'C'\n",
    "        elif tape[p] == 1:\n",
    "            tape[p] = 0\n",
    "            p += 1\n",
    "            state = 'D'\n",
    "\n",
    "    elif state=='C':\n",
    "        if tape[p] == 0:\n",
    "            tape[p] = 1\n",
    "            p -= 1\n",
    "            state = 'D'\n",
    "        elif tape[p] == 1:\n",
    "            tape[p] = 1\n",
    "            p += 1\n",
    "            state = 'E'\n",
    "\n",
    "    elif state=='D':\n",
    "        if tape[p] == 0:\n",
    "            tape[p] = 0\n",
    "            p -= 1\n",
    "            state = 'E'\n",
    "        elif tape[p] == 1:\n",
    "            tape[p] = 0\n",
    "            p -= 1\n",
    "            state = 'D'\n",
    "\n",
    "    elif state=='E':\n",
    "        if tape[p] == 0:\n",
    "            tape[p] = 0\n",
    "            p += 1\n",
    "            state = 'A'\n",
    "        elif tape[p] == 1:\n",
    "            tape[p] = 1\n",
    "            p += 1\n",
    "            state = 'C'\n",
    "\n",
    "    elif state=='F':\n",
    "        if tape[p] == 0:\n",
    "            tape[p] = 1\n",
    "            p -= 1\n",
    "            state = 'A'\n",
    "        elif tape[p] == 1:\n",
    "            tape[p] = 1\n",
    "            p += 1\n",
    "            state = 'A'\n",
    "\n",
    "print(sum(list(tape.values())))"
   ]
  },
  {
   "cell_type": "code",
   "execution_count": null,
   "metadata": {},
   "outputs": [],
   "source": []
  }
 ],
 "metadata": {
  "kernelspec": {
   "display_name": "Python 3",
   "language": "python",
   "name": "python3"
  },
  "language_info": {
   "codemirror_mode": {
    "name": "ipython",
    "version": 3
   },
   "file_extension": ".py",
   "mimetype": "text/x-python",
   "name": "python",
   "nbconvert_exporter": "python",
   "pygments_lexer": "ipython3",
   "version": "3.9.0"
  }
 },
 "nbformat": 4,
 "nbformat_minor": 4
}
