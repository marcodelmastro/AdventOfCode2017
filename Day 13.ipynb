{
 "cells": [
  {
   "cell_type": "markdown",
   "metadata": {},
   "source": [
    "## Day 13\n",
    "\n",
    "### Part 1"
   ]
  },
  {
   "cell_type": "code",
   "execution_count": 171,
   "metadata": {},
   "outputs": [],
   "source": [
    "def fwT(lines):\n",
    "    T = {}\n",
    "    for l in lines:\n",
    "        p = l.split(\": \")\n",
    "        T[int(p[0])] = int(p[1])\n",
    "    return T"
   ]
  },
  {
   "cell_type": "code",
   "execution_count": 172,
   "metadata": {},
   "outputs": [],
   "source": [
    "def fwTrip(T,verbose=False):\n",
    "\n",
    "    fw_min = min(list(T.keys()))\n",
    "    fw_max = max(list(T.keys()))\n",
    "\n",
    "    t = 0\n",
    "    severity = 0\n",
    "\n",
    "    while t <= fw_max:\n",
    "\n",
    "        # compute firewall status\n",
    "        status = []\n",
    "        for fw in range(fw_min,fw_max+1):\n",
    "            if fw in T.keys():\n",
    "                status.append(int(t%(2*T[fw]-2)==0))\n",
    "            else:\n",
    "                status.append(\"_\")    \n",
    "        if verbose: print(t, status, end=\" \")\n",
    "\n",
    "        # check whether packet is caught (position is t)\n",
    "        if status[t]==1:\n",
    "            severity += t*T[t]\n",
    "            if verbose: print(\"Packet caught at\",t)\n",
    "        else:\n",
    "            if verbose: print(\"\")\n",
    "\n",
    "        # increment timer\n",
    "        t += 1\n",
    "\n",
    "    if verbose: print(\"Severity =\",severity)\n",
    "    return severity"
   ]
  },
  {
   "cell_type": "code",
   "execution_count": 173,
   "metadata": {},
   "outputs": [
    {
     "name": "stdout",
     "output_type": "stream",
     "text": [
      "0 [1, 1, '_', '_', 1, '_', 1] Packet caught at 0\n",
      "1 [0, 0, '_', '_', 0, '_', 0] \n",
      "2 [0, 1, '_', '_', 0, '_', 0] \n",
      "3 [0, 0, '_', '_', 0, '_', 0] \n",
      "4 [1, 1, '_', '_', 0, '_', 0] \n",
      "5 [0, 0, '_', '_', 0, '_', 0] \n",
      "6 [0, 1, '_', '_', 1, '_', 1] Packet caught at 6\n",
      "Severity = 24\n"
     ]
    }
   ],
   "source": [
    "lines_test = [\n",
    "    '0: 3',\n",
    "    '1: 2',\n",
    "    '4: 4',\n",
    "    '6: 4'\n",
    "]\n",
    "\n",
    "T_test = fwT(lines_test)\n",
    "s_test = fwTrip(T_test,verbose=True)"
   ]
  },
  {
   "cell_type": "code",
   "execution_count": 174,
   "metadata": {},
   "outputs": [
    {
     "name": "stdout",
     "output_type": "stream",
     "text": [
      "Part 1: Severity = 1844\n"
     ]
    }
   ],
   "source": [
    "with open(\"data/input13.txt\") as f:\n",
    "    lines = [l.strip(\"\\n\") for l in f.readlines()]\n",
    "\n",
    "T = fwT(lines)\n",
    "s = fwTrip(T)\n",
    "print(\"Part 1: Severity =\",s)"
   ]
  },
  {
   "cell_type": "markdown",
   "metadata": {},
   "source": [
    "### Part 2"
   ]
  },
  {
   "cell_type": "code",
   "execution_count": 175,
   "metadata": {},
   "outputs": [],
   "source": [
    "def fwTripDelay(T,d=0,verbose=False):\n",
    "\n",
    "    fw_min = min(list(T.keys()))\n",
    "    fw_max = max(list(T.keys()))\n",
    "\n",
    "    t = 0\n",
    "\n",
    "    while True:\n",
    "\n",
    "        status = []\n",
    "        for fw in range(fw_min,fw_max+1):\n",
    "            if fw in T.keys():\n",
    "                status.append(int(t%(2*T[fw]-2)==0))\n",
    "            else:\n",
    "                status.append(\"_\")    \n",
    " \n",
    "        if t>=d:\n",
    "            if status[t-d]==1:\n",
    "                if verbose: \n",
    "                    print(\"Delay {}: Packet caught at {}\".format(d,t-d))\n",
    "                return False\n",
    "\n",
    "        if t-d==fw_max:\n",
    "            if verbose: \n",
    "                print(\"Delay {}: Exit reached!\".format(d))\n",
    "            return True\n",
    "        \n",
    "        t += 1"
   ]
  },
  {
   "cell_type": "code",
   "execution_count": 176,
   "metadata": {},
   "outputs": [],
   "source": [
    "def findDelay(T,verbose=False):\n",
    "    d = 0\n",
    "    while True:\n",
    "        if fwTripDelay(T,d,verbose):\n",
    "            break\n",
    "        d += 1\n",
    "    return d"
   ]
  },
  {
   "cell_type": "code",
   "execution_count": 177,
   "metadata": {
    "scrolled": true
   },
   "outputs": [
    {
     "name": "stdout",
     "output_type": "stream",
     "text": [
      "Delay 0: Packet caught at 0\n",
      "Delay 1: Packet caught at 1\n",
      "Delay 2: Packet caught at 4\n",
      "Delay 3: Packet caught at 1\n",
      "Delay 4: Packet caught at 0\n",
      "Delay 5: Packet caught at 1\n",
      "Delay 6: Packet caught at 6\n",
      "Delay 7: Packet caught at 1\n",
      "Delay 8: Packet caught at 0\n",
      "Delay 9: Packet caught at 1\n",
      "Delay 10: Exit reached!\n",
      "Test 2: Delay = 10\n"
     ]
    }
   ],
   "source": [
    "d_test = findDelay(T_test,verbose=True)\n",
    "print(\"Test 2: Delay =\", d_test)"
   ]
  },
  {
   "cell_type": "code",
   "execution_count": 179,
   "metadata": {},
   "outputs": [],
   "source": [
    "#d = findDelay(T,verbose=False)\n",
    "#print(\"Part 2: Delay =\", d)"
   ]
  },
  {
   "cell_type": "markdown",
   "metadata": {},
   "source": [
    "Brute force solution does not seem to work...\n",
    "\n",
    "This seems to be prime number reminder problem, so maybe I should try the Chinese Reminder Theorem?"
   ]
  },
  {
   "cell_type": "code",
   "execution_count": null,
   "metadata": {},
   "outputs": [],
   "source": []
  }
 ],
 "metadata": {
  "kernelspec": {
   "display_name": "Python 3",
   "language": "python",
   "name": "python3"
  },
  "language_info": {
   "codemirror_mode": {
    "name": "ipython",
    "version": 3
   },
   "file_extension": ".py",
   "mimetype": "text/x-python",
   "name": "python",
   "nbconvert_exporter": "python",
   "pygments_lexer": "ipython3",
   "version": "3.9.0"
  }
 },
 "nbformat": 4,
 "nbformat_minor": 4
}
