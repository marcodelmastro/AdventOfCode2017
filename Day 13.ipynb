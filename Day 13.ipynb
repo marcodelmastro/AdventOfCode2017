{
 "cells": [
  {
   "cell_type": "markdown",
   "metadata": {},
   "source": [
    "## Day 13\n",
    "\n",
    "### Part 1"
   ]
  },
  {
   "cell_type": "code",
   "execution_count": 3,
   "metadata": {},
   "outputs": [],
   "source": [
    "def fwT(lines):\n",
    "    T = {}\n",
    "    for l in lines:\n",
    "        p = l.split(\": \")\n",
    "        T[int(p[0])] = int(p[1])\n",
    "    return T"
   ]
  },
  {
   "cell_type": "code",
   "execution_count": 4,
   "metadata": {},
   "outputs": [],
   "source": [
    "def fwTrip(T,verbose=False):\n",
    "\n",
    "    fw_min = min(list(T.keys()))\n",
    "    fw_max = max(list(T.keys()))\n",
    "\n",
    "    t = 0\n",
    "    severity = 0\n",
    "\n",
    "    while t <= fw_max:\n",
    "\n",
    "        # compute firewall status\n",
    "        status = []\n",
    "        for fw in range(fw_min,fw_max+1):\n",
    "            if fw in T.keys():\n",
    "                status.append(int(t%(2*T[fw]-2)==0))\n",
    "            else:\n",
    "                status.append(\"_\")    \n",
    "        if verbose: print(t, status, end=\" \")\n",
    "\n",
    "        # check whether packet is caught (position is t)\n",
    "        if status[t]==1:\n",
    "            severity += t*T[t]\n",
    "            if verbose: print(\"Packet caught at\",t)\n",
    "        else:\n",
    "            if verbose: print(\"\")\n",
    "\n",
    "        # increment timer\n",
    "        t += 1\n",
    "\n",
    "    if verbose: print(\"Severity =\",severity)\n",
    "    return severity"
   ]
  },
  {
   "cell_type": "code",
   "execution_count": 5,
   "metadata": {},
   "outputs": [
    {
     "name": "stdout",
     "output_type": "stream",
     "text": [
      "0 [1, 1, '_', '_', 1, '_', 1] Packet caught at 0\n",
      "1 [0, 0, '_', '_', 0, '_', 0] \n",
      "2 [0, 1, '_', '_', 0, '_', 0] \n",
      "3 [0, 0, '_', '_', 0, '_', 0] \n",
      "4 [1, 1, '_', '_', 0, '_', 0] \n",
      "5 [0, 0, '_', '_', 0, '_', 0] \n",
      "6 [0, 1, '_', '_', 1, '_', 1] Packet caught at 6\n",
      "Severity = 24\n"
     ]
    }
   ],
   "source": [
    "lines_test = [\n",
    "    '0: 3',\n",
    "    '1: 2',\n",
    "    '4: 4',\n",
    "    '6: 4'\n",
    "]\n",
    "\n",
    "T_test = fwT(lines_test)\n",
    "s_test = fwTrip(T_test,verbose=True)"
   ]
  },
  {
   "cell_type": "code",
   "execution_count": 195,
   "metadata": {},
   "outputs": [
    {
     "name": "stdout",
     "output_type": "stream",
     "text": [
      "Part 1: Severity = 1844\n"
     ]
    }
   ],
   "source": [
    "with open(\"data/input13.txt\") as f:\n",
    "    lines = [l.strip(\"\\n\") for l in f.readlines()]\n",
    "\n",
    "T = fwT(lines)\n",
    "s = fwTrip(T)\n",
    "print(\"Part 1: Severity =\",s)"
   ]
  },
  {
   "cell_type": "markdown",
   "metadata": {},
   "source": [
    "### Part 2"
   ]
  },
  {
   "cell_type": "code",
   "execution_count": 204,
   "metadata": {},
   "outputs": [],
   "source": [
    "def fwTripDelay(T,d=0,verbose=False):\n",
    "    fw_max = max(list(T.keys()))\n",
    "    P = {}\n",
    "    for p in T.keys():\n",
    "        P[p] = 2*T[p]-2\n",
    "    dt=-1\n",
    "    for dt in P.keys(): # only cycle on firewall layers\n",
    "        if (d+dt)%P[dt]==0:\n",
    "            if verbose: \n",
    "                print(\"Delay {}: Packet caught at {}\".format(d,t-d))\n",
    "            return False\n",
    "    if dt==fw_max:\n",
    "        if verbose: \n",
    "            print(\"Delay {}: Exit reached!\".format(d))\n",
    "        return True\n",
    "        \n",
    "def findDelay(T,verbose=False):\n",
    "    d = 0\n",
    "    while True:\n",
    "        if fwTripDelay2(T,d,verbose):\n",
    "            break\n",
    "        d += 1\n",
    "    return d"
   ]
  },
  {
   "cell_type": "code",
   "execution_count": 205,
   "metadata": {},
   "outputs": [
    {
     "name": "stdout",
     "output_type": "stream",
     "text": [
      "Delay 0: Packet caught at 0\n",
      "Delay 1: Packet caught at 1\n",
      "Delay 2: Packet caught at 4\n",
      "Delay 3: Packet caught at 1\n",
      "Delay 4: Packet caught at 0\n",
      "Delay 5: Packet caught at 1\n",
      "Delay 6: Packet caught at 6\n",
      "Delay 7: Packet caught at 1\n",
      "Delay 8: Packet caught at 0\n",
      "Delay 9: Packet caught at 1\n",
      "Delay 10: Exit reached!\n",
      "Test 2: Delay = 10\n"
     ]
    }
   ],
   "source": [
    "d_test = findDelay(T_test,verbose=True)\n",
    "print(\"Test 2: Delay =\", d_test)"
   ]
  },
  {
   "cell_type": "markdown",
   "metadata": {},
   "source": [
    "The above implementation is not very efficient to work with the full input, below a more compact and efficient one:"
   ]
  },
  {
   "cell_type": "code",
   "execution_count": 211,
   "metadata": {},
   "outputs": [],
   "source": [
    "def findDelayCompact(T):\n",
    "    P = {}\n",
    "    for p in T.keys():\n",
    "        P[p] = 2*T[p]-2\n",
    "    d = 0\n",
    "    while True:\n",
    "        t = True\n",
    "        for p in P.keys():\n",
    "            t = t and (d+p)%P[p]!= 0\n",
    "        if t:\n",
    "            return d\n",
    "        d += 1"
   ]
  },
  {
   "cell_type": "code",
   "execution_count": 212,
   "metadata": {},
   "outputs": [
    {
     "name": "stdout",
     "output_type": "stream",
     "text": [
      "Test 2: Delay = 10\n"
     ]
    }
   ],
   "source": [
    "d_test = findDelayCompact(T_test)\n",
    "print(\"Test 2: Delay =\", d_test)"
   ]
  },
  {
   "cell_type": "code",
   "execution_count": 213,
   "metadata": {},
   "outputs": [
    {
     "name": "stdout",
     "output_type": "stream",
     "text": [
      "Part 2: Delay = 3897604\n",
      "Elapsed time:  4.35 s\n"
     ]
    }
   ],
   "source": [
    "import time\n",
    "tic = time.perf_counter()\n",
    "\n",
    "d = findDelayCompact(T)\n",
    "print(\"Part 2: Delay =\", d)\n",
    "\n",
    "toc = time.perf_counter()\n",
    "print(\"Elapsed time: %5.2f s\"%(toc-tic))"
   ]
  },
  {
   "cell_type": "code",
   "execution_count": null,
   "metadata": {},
   "outputs": [],
   "source": []
  }
 ],
 "metadata": {
  "kernelspec": {
   "display_name": "Python 3",
   "language": "python",
   "name": "python3"
  },
  "language_info": {
   "codemirror_mode": {
    "name": "ipython",
    "version": 3
   },
   "file_extension": ".py",
   "mimetype": "text/x-python",
   "name": "python",
   "nbconvert_exporter": "python",
   "pygments_lexer": "ipython3",
   "version": "3.9.0"
  }
 },
 "nbformat": 4,
 "nbformat_minor": 4
}
