{
 "cells": [
  {
   "cell_type": "markdown",
   "metadata": {},
   "source": [
    "## Day 19"
   ]
  },
  {
   "cell_type": "code",
   "execution_count": 60,
   "metadata": {},
   "outputs": [],
   "source": [
    "def diagramLetters(diag):\n",
    "    \n",
    "    # Look for letters in diagram\n",
    "    lett = \"\"\n",
    "    path = \"-|+\"\n",
    "    for r in diag:\n",
    "        for c in r:\n",
    "            if c!=\" \" and c not in path:\n",
    "                lett += c\n",
    "    lett = sorted(lett)\n",
    "\n",
    "    # search starting point on first row\n",
    "    y=0\n",
    "    for x in range(len(diag[y])):\n",
    "        if diag[y][x] == \"|\":\n",
    "            break\n",
    "        x+=1\n",
    "    X = x + y*1j\n",
    "\n",
    "    # initial direction is down\n",
    "    d = +1j\n",
    "\n",
    "    steps = 0\n",
    "    letters = \"\"\n",
    "    while True:\n",
    "\n",
    "        steps+=1\n",
    "        x = int(X.real)\n",
    "        y = int(X.imag)\n",
    "        t = diag[y][x]\n",
    "\n",
    "        if t not in path:\n",
    "            letters += t\n",
    "            if sorted(letters) == lett:\n",
    "                break\n",
    "\n",
    "\n",
    "        if t ==\"+\": # change direction\n",
    "            # search for path in orthogonal directions\n",
    "            for dn in [d*k for k in (+1j,-1j)]:\n",
    "                Xn = X + dn\n",
    "                xn = int(Xn.real)\n",
    "                yn = int(Xn.imag)\n",
    "                if xn<0 or xn>=len(diag[0]) or yn<0 or yn>=len(diag):\n",
    "                    continue\n",
    "                tn = diag[yn][xn]\n",
    "                if tn != \" \": # it could be a letter!\n",
    "                    d = dn\n",
    "                    break\n",
    "        X += d\n",
    "\n",
    "    return letters,steps"
   ]
  },
  {
   "cell_type": "code",
   "execution_count": 66,
   "metadata": {},
   "outputs": [
    {
     "name": "stdout",
     "output_type": "stream",
     "text": [
      "Test 1 : ABCDEF\n",
      "Test 2 : 38\n",
      "Part 1 : SXPZDFJNRL\n",
      "Part 2 : 18126\n"
     ]
    }
   ],
   "source": [
    "diag_test = [\n",
    "'     |          ',   \n",
    "'     |  +--+    ',\n",
    "'     A  |  C    ',\n",
    "' F---|----E|--+ ',\n",
    "'     |  |  |  D ',\n",
    "'     +B-+  +--+ '\n",
    "]\n",
    "\n",
    "lt,st = diagramLetters(diag_test)\n",
    "print(\"Test 1 :\",lt)\n",
    "print(\"Test 2 :\",st)\n",
    "\n",
    "with open(\"data/input19.txt\") as f:\n",
    "    diag = [l.strip(\"\\n\") for l in f.readlines()]\n",
    "    \n",
    "l,s = diagramLetters(diag)\n",
    "print(\"Part 1 :\",l)\n",
    "print(\"Part 2 :\",s)"
   ]
  },
  {
   "cell_type": "code",
   "execution_count": null,
   "metadata": {},
   "outputs": [],
   "source": []
  }
 ],
 "metadata": {
  "kernelspec": {
   "display_name": "Python 3",
   "language": "python",
   "name": "python3"
  },
  "language_info": {
   "codemirror_mode": {
    "name": "ipython",
    "version": 3
   },
   "file_extension": ".py",
   "mimetype": "text/x-python",
   "name": "python",
   "nbconvert_exporter": "python",
   "pygments_lexer": "ipython3",
   "version": "3.9.0"
  }
 },
 "nbformat": 4,
 "nbformat_minor": 4
}
