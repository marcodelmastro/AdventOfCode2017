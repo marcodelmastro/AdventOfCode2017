{
 "cells": [
  {
   "cell_type": "markdown",
   "metadata": {},
   "source": [
    "## Day 17"
   ]
  },
  {
   "cell_type": "code",
   "execution_count": 135,
   "metadata": {},
   "outputs": [],
   "source": [
    "def spinlock(steps=3, ins=2017):\n",
    "    spinl = [ 0 ]\n",
    "    i = 1\n",
    "    c = 0\n",
    "    for _ in range(ins):\n",
    "        j = (c+steps)%len(spinl) + 1\n",
    "        if len(spinl)==1:\n",
    "            spinl = spinl + [i]\n",
    "        else:\n",
    "            spinl = spinl[:j]+[i]+spinl[j:]\n",
    "        c = j\n",
    "        i += 1\n",
    "        #print(spinl,c)\n",
    "    return spinl,c"
   ]
  },
  {
   "cell_type": "code",
   "execution_count": 136,
   "metadata": {},
   "outputs": [
    {
     "name": "stdout",
     "output_type": "stream",
     "text": [
      "Test 1: 638\n",
      "Part 1: 1025\n"
     ]
    }
   ],
   "source": [
    "spinl,c = spinlock(steps=3, ins=2017)\n",
    "#print(spinl[c-1:c+2])\n",
    "print(\"Test 1:\",spinl[c+1])\n",
    "\n",
    "spinl,c = spinlock(steps=366, ins=2017)\n",
    "#print(spinl[c-1:c+2])\n",
    "print(\"Part 1:\",spinl[c+1])"
   ]
  },
  {
   "cell_type": "code",
   "execution_count": 141,
   "metadata": {},
   "outputs": [
    {
     "name": "stdout",
     "output_type": "stream",
     "text": [
      "0 [0, 431]\n"
     ]
    }
   ],
   "source": [
    "# 0 always in position 0, neighbour in position 1\n",
    "c0 = spinl.index(0)\n",
    "print(c0, spinl[c0:c0+2])"
   ]
  },
  {
   "cell_type": "code",
   "execution_count": 138,
   "metadata": {},
   "outputs": [],
   "source": [
    "def spinlockZero(steps=3, ins=2017):\n",
    "    i = 1\n",
    "    c = 0\n",
    "    len_spinl = 1\n",
    "    n0 = -1\n",
    "    for _ in range(ins):\n",
    "        j = (c+steps)%len_spinl + 1\n",
    "        if j==1: # 0 always in position 0, neighbour in position 1\n",
    "            n0 = i\n",
    "        len_spinl += 1\n",
    "        c = j\n",
    "        i += 1\n",
    "    return n0"
   ]
  },
  {
   "cell_type": "code",
   "execution_count": 139,
   "metadata": {},
   "outputs": [
    {
     "name": "stdout",
     "output_type": "stream",
     "text": [
      "Test 2: 431\n"
     ]
    }
   ],
   "source": [
    "print(\"Test 2:\",spinlockZero(steps=366, ins=2017))"
   ]
  },
  {
   "cell_type": "code",
   "execution_count": 140,
   "metadata": {},
   "outputs": [
    {
     "name": "stdout",
     "output_type": "stream",
     "text": [
      "Part 2: 37803463\n"
     ]
    }
   ],
   "source": [
    "print(\"Part 2:\",spinlockZero(steps=366, ins=50000000))"
   ]
  },
  {
   "cell_type": "code",
   "execution_count": null,
   "metadata": {},
   "outputs": [],
   "source": []
  }
 ],
 "metadata": {
  "kernelspec": {
   "display_name": "Python 3",
   "language": "python",
   "name": "python3"
  },
  "language_info": {
   "codemirror_mode": {
    "name": "ipython",
    "version": 3
   },
   "file_extension": ".py",
   "mimetype": "text/x-python",
   "name": "python",
   "nbconvert_exporter": "python",
   "pygments_lexer": "ipython3",
   "version": "3.9.0"
  }
 },
 "nbformat": 4,
 "nbformat_minor": 4
}
